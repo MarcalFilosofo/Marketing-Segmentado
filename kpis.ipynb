{
 "cells": [
  {
   "cell_type": "code",
   "execution_count": 2,
   "metadata": {},
   "outputs": [],
   "source": [
    "import numpy as np\n",
    "import pandas as pd\n",
    "import seaborn as sns\n",
    "import mariadb\n",
    "import sys\n",
    "\n",
    "import os\n",
    "from dotenv import load_dotenv\n"
   ]
  },
  {
   "cell_type": "markdown",
   "metadata": {},
   "source": [
    "### Conexão com o banco de dados"
   ]
  },
  {
   "cell_type": "code",
   "execution_count": 3,
   "metadata": {},
   "outputs": [],
   "source": [
    "class DBConnection:\n",
    "    @staticmethod\n",
    "    def getConnection():\n",
    "        load_dotenv(override=True)\n",
    "        try:\n",
    "            conn = mariadb.connect(\n",
    "                user=os.environ['DATABASE_USERNAME'],\n",
    "                password=os.environ['DATABASE_PASSWORD'],\n",
    "                host=os.environ['HOST_CONNECT'],\n",
    "                port=int(os.environ['DATABASE_PORT']),\n",
    "                database=os.environ['DATABASE_NAME']\n",
    "\n",
    "            )\n",
    "        except mariadb.Error as e:\n",
    "            print(f\"Error connecting to MariaDB Platform: {e}\")\n",
    "            sys.exit(1)\n",
    "            \n",
    "        return conn.cursor(dictionary=True)\n",
    "\n",
    "conn = DBConnection.getConnection()\n"
   ]
  },
  {
   "cell_type": "markdown",
   "metadata": {},
   "source": [
    "### NPS dos produtos"
   ]
  },
  {
   "cell_type": "code",
   "execution_count": 4,
   "metadata": {},
   "outputs": [
    {
     "data": {
      "text/html": [
       "<div>\n",
       "<style scoped>\n",
       "    .dataframe tbody tr th:only-of-type {\n",
       "        vertical-align: middle;\n",
       "    }\n",
       "\n",
       "    .dataframe tbody tr th {\n",
       "        vertical-align: top;\n",
       "    }\n",
       "\n",
       "    .dataframe thead th {\n",
       "        text-align: right;\n",
       "    }\n",
       "</style>\n",
       "<table border=\"1\" class=\"dataframe\">\n",
       "  <thead>\n",
       "    <tr style=\"text-align: right;\">\n",
       "      <th></th>\n",
       "      <th>post_title</th>\n",
       "      <th>nps</th>\n",
       "    </tr>\n",
       "  </thead>\n",
       "  <tbody>\n",
       "    <tr>\n",
       "      <th>0</th>\n",
       "      <td>E-Class</td>\n",
       "      <td>4.10</td>\n",
       "    </tr>\n",
       "    <tr>\n",
       "      <th>1</th>\n",
       "      <td>Dakota Club</td>\n",
       "      <td>4.00</td>\n",
       "    </tr>\n",
       "    <tr>\n",
       "      <th>2</th>\n",
       "      <td>W201</td>\n",
       "      <td>4.00</td>\n",
       "    </tr>\n",
       "    <tr>\n",
       "      <th>3</th>\n",
       "      <td>Horizon</td>\n",
       "      <td>4.00</td>\n",
       "    </tr>\n",
       "    <tr>\n",
       "      <th>4</th>\n",
       "      <td>Diamante</td>\n",
       "      <td>4.00</td>\n",
       "    </tr>\n",
       "    <tr>\n",
       "      <th>...</th>\n",
       "      <td>...</td>\n",
       "      <td>...</td>\n",
       "    </tr>\n",
       "    <tr>\n",
       "      <th>66</th>\n",
       "      <td>S80</td>\n",
       "      <td>2.80</td>\n",
       "    </tr>\n",
       "    <tr>\n",
       "      <th>67</th>\n",
       "      <td>H1</td>\n",
       "      <td>2.75</td>\n",
       "    </tr>\n",
       "    <tr>\n",
       "      <th>68</th>\n",
       "      <td>SLK-Class</td>\n",
       "      <td>2.50</td>\n",
       "    </tr>\n",
       "    <tr>\n",
       "      <th>69</th>\n",
       "      <td>XJ</td>\n",
       "      <td>2.00</td>\n",
       "    </tr>\n",
       "    <tr>\n",
       "      <th>70</th>\n",
       "      <td>Mazda6</td>\n",
       "      <td>1.00</td>\n",
       "    </tr>\n",
       "  </tbody>\n",
       "</table>\n",
       "<p>71 rows × 2 columns</p>\n",
       "</div>"
      ],
      "text/plain": [
       "     post_title   nps\n",
       "0       E-Class  4.10\n",
       "1   Dakota Club  4.00\n",
       "2          W201  4.00\n",
       "3       Horizon  4.00\n",
       "4      Diamante  4.00\n",
       "..          ...   ...\n",
       "66          S80  2.80\n",
       "67           H1  2.75\n",
       "68    SLK-Class  2.50\n",
       "69           XJ  2.00\n",
       "70       Mazda6  1.00\n",
       "\n",
       "[71 rows x 2 columns]"
      ]
     },
     "execution_count": 4,
     "metadata": {},
     "output_type": "execute_result"
    }
   ],
   "source": [
    "conn.execute(\"\"\"\n",
    "    SELECT wp_posts.post_title, AVG(wp_commentmeta.meta_value) as nps FROM wp_posts\n",
    "    INNER JOIN wp_comments ON wp_posts.ID = wp_comments.comment_post_ID\n",
    "    INNER JOIN wp_commentmeta ON wp_comments.comment_ID = wp_commentmeta.comment_id\n",
    "    WHERE\n",
    "    wp_commentmeta.meta_key = 'rating'\n",
    "    GROUP BY wp_posts.post_title\n",
    "    ORDER BY nps DESC\n",
    "\"\"\")\n",
    "\n",
    "nps = pd.DataFrame(conn.fetchall())\n",
    "nps"
   ]
  },
  {
   "cell_type": "markdown",
   "metadata": {},
   "source": [
    "### Médias"
   ]
  },
  {
   "cell_type": "code",
   "execution_count": 5,
   "metadata": {},
   "outputs": [
    {
     "data": {
      "text/plain": [
       "(  AVG(num_items_sold)\n",
       " 0              2.2466,\n",
       "    AVG(total_sales)\n",
       " 0     273758.872067)"
      ]
     },
     "execution_count": 5,
     "metadata": {},
     "output_type": "execute_result"
    }
   ],
   "source": [
    "conn.execute(\"\"\"\n",
    "    SELECT AVG(total_sales) FROM wp_wc_order_stats\n",
    "\"\"\")\n",
    "\n",
    "ticket_medio = pd.DataFrame(conn.fetchall())\n",
    "\n",
    "conn.execute(\"\"\"\n",
    "    SELECT AVG(num_items_sold) FROM wp_wc_order_stats\n",
    "\"\"\")\n",
    "\n",
    "media_itens_carrinho = pd.DataFrame(conn.fetchall())\n",
    "media_itens_carrinho, ticket_medio"
   ]
  },
  {
   "cell_type": "markdown",
   "metadata": {},
   "source": [
    "### Churn"
   ]
  },
  {
   "cell_type": "markdown",
   "metadata": {},
   "source": [
    "#### Churn mensal\n",
    "\n",
    "O Churn mensal da unidade pode ser calculado da seguinte forma:\n",
    "\n",
    "C = CP / TCMA\n",
    "\n",
    "1. CP é a quantidade de clientes perdidos\n",
    "2. TCMA é o total de clientes no mês anterior\n",
    "3. C é o Churn\n",
    "\n",
    "Vamos considerar como um cliente perdido aquele que não teve nenhuma interação com organização em 24 meses"
   ]
  },
  {
   "cell_type": "code",
   "execution_count": 6,
   "metadata": {},
   "outputs": [
    {
     "data": {
      "text/plain": [
       "7.142857142857142"
      ]
     },
     "execution_count": 6,
     "metadata": {},
     "output_type": "execute_result"
    }
   ],
   "source": [
    "from datetime import datetime, date, timedelta\n",
    "\n",
    "# primeiro_dia_mes = datetime.today().strftime('%Y-%m') + \"-01\"\n",
    "primeiro_dia_mes = \"2022-08-01\"\n",
    "\n",
    "ano_atual = datetime.today().strftime('%Y')\n",
    "dois_anos_atras = str(int(ano_atual) - 2) + \"-\" + datetime.today().strftime('%m-%d')\n",
    "\n",
    "qt_novos_clientes_mes_anterior = conn.execute(\"\"\"\n",
    "    SELECT\n",
    "        count(*) as qt\n",
    "    FROM wp_users\n",
    "    INNER JOIN wp_wc_customer_lookup ON wp_users.ID = wp_wc_customer_lookup.user_id\n",
    "    WHERE user_registered >= %s\n",
    "\"\"\", [primeiro_dia_mes])\n",
    "\n",
    "qt_novos_clientes_mes_anterior = pd.DataFrame(conn.fetchall())\n",
    "\n",
    "qt_clientes_perdios = conn.execute(\"\"\"\n",
    "    SELECT\n",
    "        count(*) as qt\n",
    "    FROM wp_wc_customer_lookup\n",
    "    WHERE wp_wc_customer_lookup.date_last_active < %s\n",
    "\"\"\", [dois_anos_atras])\n",
    "\n",
    "qt_clientes_perdios = pd.DataFrame(conn.fetchall())\n",
    "\n",
    "churn_mensal = qt_clientes_perdios['qt'][0] / qt_novos_clientes_mes_anterior['qt'][0] * 100\n",
    "churn_mensal"
   ]
  },
  {
   "cell_type": "markdown",
   "metadata": {},
   "source": [
    "### Churn bruto pode ser calculado da seguinte forma:\n",
    "CB = MRR′ / MRR′′\n",
    "\n",
    "Onde MRR’ é a receita recorrente mensal de um determinado mês, MRR” é a receita\n",
    "recorrente mensal do início do mês e CB é Churn Bruto.\n"
   ]
  },
  {
   "cell_type": "code",
   "execution_count": 7,
   "metadata": {},
   "outputs": [
    {
     "data": {
      "text/plain": [
       "100"
      ]
     },
     "execution_count": 7,
     "metadata": {},
     "output_type": "execute_result"
    }
   ],
   "source": [
    "def get_mrr():\n",
    "    primeiro_dia_mes = datetime.today().strftime('%Y-%m') + \"-01\"\n",
    "    hoje = datetime.today()\n",
    "\n",
    "    conn.execute(\"\"\"\n",
    "        SELECT AVG(total_sales) mean FROM wp_wc_order_stats WHERE date_created BETWEEN %s AND %s\n",
    "    \"\"\", [primeiro_dia_mes, hoje.strftime('%Y-%m-%d')])\n",
    "\n",
    "    mrr_i = pd.DataFrame(conn.fetchall())\n",
    "\n",
    "    dias_subtracao = int(datetime.today().strftime('%d')) + 1\n",
    "    td = timedelta(dias_subtracao * -1)\n",
    "\n",
    "    ultimo_dia_mes_passado = hoje + td\n",
    "    ultimo_dia_mes_passado = ultimo_dia_mes_passado.strftime('%Y-%m-%d')\n",
    "\n",
    "    dias_mes_passado = int((hoje + td).strftime('%d')) * -1\n",
    "    td_2 = timedelta(dias_mes_passado)\n",
    "\n",
    "    primeiro_dia_mes_passado = hoje + td + td_2\n",
    "    primeiro_dia_mes_passado = primeiro_dia_mes_passado.strftime('%Y-%m-%d')\n",
    "\n",
    "    conn.execute(\"\"\"\n",
    "        SELECT AVG(total_sales) mean FROM wp_wc_order_stats WHERE date_created BETWEEN %s AND %s\n",
    "    \"\"\", [primeiro_dia_mes_passado, ultimo_dia_mes_passado])\n",
    "\n",
    "    mrr_ii = pd.DataFrame(conn.fetchall())\n",
    "\n",
    "    mrr_i = mrr_i['mean'][0]\n",
    "    mrr_ii = mrr_ii['mean'][0]\n",
    "\n",
    "    return [mrr_i, mrr_ii]\n",
    "\n",
    "def get_churn_bruto(mrr_i, mrr_ii):\n",
    "    if mrr_i == None:\n",
    "        return 1 * 100\n",
    "\n",
    "    if mrr_ii == None:\n",
    "        return 0 * 100\n",
    "\n",
    "    return mrr_i / mrr_ii * 100\n",
    "\n",
    "mrr_i, mrr_ii = get_mrr()\n",
    "\n",
    "churn_bruto = get_churn_bruto(mrr_i, mrr_ii)\n",
    "churn_bruto"
   ]
  },
  {
   "cell_type": "markdown",
   "metadata": {},
   "source": [
    "### Churn Líquido\n",
    "O Churn Líquido se da pela equação:\n",
    "CL = MRR′ −UPSELLS′ / MRR′′\n",
    "o MRR’ é a perda de receita recorrente mensal no mês X, o UPSELLS’, em e-commerces\n",
    "é o aumento do ticket médio, em serviços de assinatura é o valor da assinatura e CL é Churn líquido"
   ]
  },
  {
   "cell_type": "code",
   "execution_count": 8,
   "metadata": {},
   "outputs": [
    {
     "data": {
      "text/plain": [
       "1.0"
      ]
     },
     "execution_count": 8,
     "metadata": {},
     "output_type": "execute_result"
    }
   ],
   "source": [
    "def get_delta_tickt_medio():\n",
    "    mrr_i, mrr_ii = get_mrr()\n",
    "    if mrr_i == None:\n",
    "        mrr_i = 0\n",
    "\n",
    "    if mrr_ii == None:\n",
    "        mrr_ii = 0\n",
    "\n",
    "    upsells = mrr_i - mrr_ii\n",
    "    return upsells\n",
    "\n",
    "def get_churn_liquido():\n",
    "    upsell = get_delta_tickt_medio()\n",
    "    mrr_i, mrr_ii = get_mrr()\n",
    "\n",
    "    if mrr_i == None:\n",
    "        mrr_i = 0\n",
    "\n",
    "    if mrr_ii == None:\n",
    "        mrr_ii = 0\n",
    "\n",
    "    return mrr_i - upsell / mrr_ii\n",
    "\n",
    "churn_liquido = get_churn_liquido()\n",
    "churn_liquido"
   ]
  },
  {
   "cell_type": "markdown",
   "metadata": {},
   "source": [
    "### CLV\n",
    "\n",
    "CLV = ∑ (pt − ct )rt / (1 + i)r − CAC\n",
    "\n",
    "Onde\n",
    "\n",
    "pt = valor da compra no tempo t,\n",
    "\n",
    "ct = quaisquer custos relacionado a compra no tempo t,\n",
    "\n",
    "i = taxa de desconto ou custo de capital para a empresa,\n",
    "\n",
    "T∗= expectativa do tempo de relacionamento com o cliente (Para Kepler, 24 meses),\n",
    "\n",
    "CAC = custo de aquisição de cliente"
   ]
  },
  {
   "cell_type": "code",
   "execution_count": 25,
   "metadata": {},
   "outputs": [
    {
     "data": {
      "text/plain": [
       "0    1.724888e+07\n",
       "Name: nt, dtype: float64"
      ]
     },
     "execution_count": 25,
     "metadata": {},
     "output_type": "execute_result"
    }
   ],
   "source": [
    "\n",
    "hoje = datetime.today().strftime('%Y-%m-%d')\n",
    "dois_anos_atras = str(int(ano_atual) - 2) + \"-\" + datetime.today().strftime('%m-%d')\n",
    "\n",
    "taxa_conversao = 0.05\n",
    "\n",
    "receita_liquida_sql = conn.execute(\"\"\"\n",
    "    SELECT SUM(net_total) as nt FROM `wp_wc_order_stats` WHERE date_created BETWEEN %s AND %s\n",
    "\"\"\", [dois_anos_atras, hoje])\n",
    "\n",
    "receita_liquida = pd.DataFrame(conn.fetchall())\n",
    "receita_liquida = receita_liquida['nt']\n",
    "\n",
    "clv = receita_liquida * taxa_conversao / (1 + 0.11)\n",
    "clv\n"
   ]
  },
  {
   "cell_type": "code",
   "execution_count": 24,
   "metadata": {},
   "outputs": [
    {
     "data": {
      "text/plain": [
       "0    5.360953e+07\n",
       "Name: nt, dtype: float64"
      ]
     },
     "execution_count": 24,
     "metadata": {},
     "output_type": "execute_result"
    }
   ],
   "source": [
    "media_tv_cliente = 1 / churn_mensal\n",
    "kepler_ltv = receita_liquida * media_tv_cliente\n",
    "kepler_ltv"
   ]
  },
  {
   "cell_type": "markdown",
   "metadata": {},
   "source": [
    "### Obtendo dados dos pedidos\n"
   ]
  },
  {
   "cell_type": "code",
   "execution_count": 10,
   "metadata": {},
   "outputs": [
    {
     "data": {
      "text/html": [
       "<div>\n",
       "<style scoped>\n",
       "    .dataframe tbody tr th:only-of-type {\n",
       "        vertical-align: middle;\n",
       "    }\n",
       "\n",
       "    .dataframe tbody tr th {\n",
       "        vertical-align: top;\n",
       "    }\n",
       "\n",
       "    .dataframe thead th {\n",
       "        text-align: right;\n",
       "    }\n",
       "</style>\n",
       "<table border=\"1\" class=\"dataframe\">\n",
       "  <thead>\n",
       "    <tr style=\"text-align: right;\">\n",
       "      <th></th>\n",
       "      <th>product_id</th>\n",
       "      <th>product_qty</th>\n",
       "      <th>unit_net_revenue</th>\n",
       "      <th>unit_gross_revenue</th>\n",
       "      <th>current_price</th>\n",
       "      <th>nps</th>\n",
       "      <th>rating_count</th>\n",
       "    </tr>\n",
       "  </thead>\n",
       "  <tbody>\n",
       "    <tr>\n",
       "      <th>0</th>\n",
       "      <td>19</td>\n",
       "      <td>1</td>\n",
       "      <td>25918.59</td>\n",
       "      <td>51837.180000</td>\n",
       "      <td>25918.5900</td>\n",
       "      <td>4.00</td>\n",
       "      <td>3</td>\n",
       "    </tr>\n",
       "    <tr>\n",
       "      <th>1</th>\n",
       "      <td>19</td>\n",
       "      <td>1</td>\n",
       "      <td>25918.59</td>\n",
       "      <td>79738.350000</td>\n",
       "      <td>25918.5900</td>\n",
       "      <td>4.00</td>\n",
       "      <td>3</td>\n",
       "    </tr>\n",
       "    <tr>\n",
       "      <th>2</th>\n",
       "      <td>20</td>\n",
       "      <td>1</td>\n",
       "      <td>83926.61</td>\n",
       "      <td>147965.440000</td>\n",
       "      <td>83926.6100</td>\n",
       "      <td>3.00</td>\n",
       "      <td>1</td>\n",
       "    </tr>\n",
       "    <tr>\n",
       "      <th>3</th>\n",
       "      <td>21</td>\n",
       "      <td>1</td>\n",
       "      <td>26334.22</td>\n",
       "      <td>79800.215000</td>\n",
       "      <td>26334.2200</td>\n",
       "      <td>3.29</td>\n",
       "      <td>7</td>\n",
       "    </tr>\n",
       "    <tr>\n",
       "      <th>4</th>\n",
       "      <td>21</td>\n",
       "      <td>1</td>\n",
       "      <td>26334.22</td>\n",
       "      <td>54083.805000</td>\n",
       "      <td>26334.2200</td>\n",
       "      <td>3.29</td>\n",
       "      <td>7</td>\n",
       "    </tr>\n",
       "    <tr>\n",
       "      <th>...</th>\n",
       "      <td>...</td>\n",
       "      <td>...</td>\n",
       "      <td>...</td>\n",
       "      <td>...</td>\n",
       "      <td>...</td>\n",
       "      <td>...</td>\n",
       "      <td>...</td>\n",
       "    </tr>\n",
       "    <tr>\n",
       "      <th>6002</th>\n",
       "      <td>80</td>\n",
       "      <td>1</td>\n",
       "      <td>23177.94</td>\n",
       "      <td>82017.630000</td>\n",
       "      <td>23177.9400</td>\n",
       "      <td>3.43</td>\n",
       "      <td>7</td>\n",
       "    </tr>\n",
       "    <tr>\n",
       "      <th>6003</th>\n",
       "      <td>81</td>\n",
       "      <td>1</td>\n",
       "      <td>80228.10</td>\n",
       "      <td>129346.126667</td>\n",
       "      <td>80228.1000</td>\n",
       "      <td>0.00</td>\n",
       "      <td>0</td>\n",
       "    </tr>\n",
       "    <tr>\n",
       "      <th>6004</th>\n",
       "      <td>82</td>\n",
       "      <td>1</td>\n",
       "      <td>60923.26</td>\n",
       "      <td>121846.520000</td>\n",
       "      <td>60923.2600</td>\n",
       "      <td>3.00</td>\n",
       "      <td>8</td>\n",
       "    </tr>\n",
       "    <tr>\n",
       "      <th>6005</th>\n",
       "      <td>83</td>\n",
       "      <td>1</td>\n",
       "      <td>31046.26</td>\n",
       "      <td>87866.098000</td>\n",
       "      <td>31046.2600</td>\n",
       "      <td>3.50</td>\n",
       "      <td>4</td>\n",
       "    </tr>\n",
       "    <tr>\n",
       "      <th>6006</th>\n",
       "      <td>93</td>\n",
       "      <td>2</td>\n",
       "      <td>75776.41</td>\n",
       "      <td>75779.743333</td>\n",
       "      <td>75776.4100</td>\n",
       "      <td>4.00</td>\n",
       "      <td>1</td>\n",
       "    </tr>\n",
       "  </tbody>\n",
       "</table>\n",
       "<p>6007 rows × 7 columns</p>\n",
       "</div>"
      ],
      "text/plain": [
       "      product_id  product_qty  unit_net_revenue  unit_gross_revenue  \\\n",
       "0             19            1          25918.59        51837.180000   \n",
       "1             19            1          25918.59        79738.350000   \n",
       "2             20            1          83926.61       147965.440000   \n",
       "3             21            1          26334.22        79800.215000   \n",
       "4             21            1          26334.22        54083.805000   \n",
       "...          ...          ...               ...                 ...   \n",
       "6002          80            1          23177.94        82017.630000   \n",
       "6003          81            1          80228.10       129346.126667   \n",
       "6004          82            1          60923.26       121846.520000   \n",
       "6005          83            1          31046.26        87866.098000   \n",
       "6006          93            2          75776.41        75779.743333   \n",
       "\n",
       "     current_price   nps  rating_count  \n",
       "0       25918.5900  4.00             3  \n",
       "1       25918.5900  4.00             3  \n",
       "2       83926.6100  3.00             1  \n",
       "3       26334.2200  3.29             7  \n",
       "4       26334.2200  3.29             7  \n",
       "...            ...   ...           ...  \n",
       "6002    23177.9400  3.43             7  \n",
       "6003    80228.1000  0.00             0  \n",
       "6004    60923.2600  3.00             8  \n",
       "6005    31046.2600  3.50             4  \n",
       "6006    75776.4100  4.00             1  \n",
       "\n",
       "[6007 rows x 7 columns]"
      ]
     },
     "execution_count": 10,
     "metadata": {},
     "output_type": "execute_result"
    }
   ],
   "source": [
    "relacao_pedidos = conn.execute(\"\"\"\n",
    "    SELECT \n",
    "        wp_wc_order_product_lookup.product_id,\n",
    "        wp_wc_order_product_lookup.product_qty, \n",
    "        # wp_wc_order_product_lookup.date_created, \n",
    "        (wp_wc_order_product_lookup.product_net_revenue / wp_wc_order_product_lookup.product_qty) as unit_net_revenue,\n",
    "        (wp_wc_order_product_lookup.product_gross_revenue / wp_wc_order_product_lookup.product_qty) as unit_gross_revenue,\n",
    "        wp_wc_product_meta_lookup.max_price as current_price,\n",
    "        wp_wc_product_meta_lookup.average_rating as nps,\n",
    "        wp_wc_product_meta_lookup.rating_count\n",
    "    FROM wp_wc_order_product_lookup\n",
    "    INNER JOIN wp_posts ON wp_wc_order_product_lookup.product_id = wp_posts.ID\n",
    "    INNER JOIN wp_wc_product_meta_lookup ON  wp_posts.ID = wp_wc_product_meta_lookup.product_id\n",
    "\"\"\")\n",
    "\n",
    "pedidos = pd.DataFrame(conn.fetchall())\n",
    "pedidos"
   ]
  },
  {
   "cell_type": "markdown",
   "metadata": {},
   "source": [
    "### Padronizando variáveis"
   ]
  },
  {
   "cell_type": "code",
   "execution_count": 31,
   "metadata": {},
   "outputs": [
    {
     "data": {
      "text/html": [
       "<div>\n",
       "<style scoped>\n",
       "    .dataframe tbody tr th:only-of-type {\n",
       "        vertical-align: middle;\n",
       "    }\n",
       "\n",
       "    .dataframe tbody tr th {\n",
       "        vertical-align: top;\n",
       "    }\n",
       "\n",
       "    .dataframe thead th {\n",
       "        text-align: right;\n",
       "    }\n",
       "</style>\n",
       "<table border=\"1\" class=\"dataframe\">\n",
       "  <thead>\n",
       "    <tr style=\"text-align: right;\">\n",
       "      <th></th>\n",
       "      <th>product_id</th>\n",
       "      <th>product_qty</th>\n",
       "      <th>unit_net_revenue</th>\n",
       "      <th>unit_gross_revenue</th>\n",
       "      <th>current_price</th>\n",
       "      <th>nps</th>\n",
       "      <th>rating_count</th>\n",
       "      <th>target</th>\n",
       "    </tr>\n",
       "  </thead>\n",
       "  <tbody>\n",
       "    <tr>\n",
       "      <th>0</th>\n",
       "      <td>-3.016008</td>\n",
       "      <td>-0.174792</td>\n",
       "      <td>-1.489400</td>\n",
       "      <td>-1.899575</td>\n",
       "      <td>-1.489400</td>\n",
       "      <td>2.099615</td>\n",
       "      <td>-1.647489</td>\n",
       "      <td>1</td>\n",
       "    </tr>\n",
       "    <tr>\n",
       "      <th>1</th>\n",
       "      <td>-3.016008</td>\n",
       "      <td>-0.174792</td>\n",
       "      <td>-1.489400</td>\n",
       "      <td>-1.149411</td>\n",
       "      <td>-1.489400</td>\n",
       "      <td>2.099615</td>\n",
       "      <td>-1.647489</td>\n",
       "      <td>1</td>\n",
       "    </tr>\n",
       "    <tr>\n",
       "      <th>2</th>\n",
       "      <td>-2.917088</td>\n",
       "      <td>-0.174792</td>\n",
       "      <td>0.909088</td>\n",
       "      <td>0.684976</td>\n",
       "      <td>0.909088</td>\n",
       "      <td>-1.096113</td>\n",
       "      <td>-2.084197</td>\n",
       "      <td>1</td>\n",
       "    </tr>\n",
       "    <tr>\n",
       "      <th>3</th>\n",
       "      <td>-2.818168</td>\n",
       "      <td>-0.174792</td>\n",
       "      <td>-1.472215</td>\n",
       "      <td>-1.147748</td>\n",
       "      <td>-1.472215</td>\n",
       "      <td>-0.169352</td>\n",
       "      <td>-0.774072</td>\n",
       "      <td>1</td>\n",
       "    </tr>\n",
       "    <tr>\n",
       "      <th>4</th>\n",
       "      <td>-2.818168</td>\n",
       "      <td>-0.174792</td>\n",
       "      <td>-1.472215</td>\n",
       "      <td>-1.839172</td>\n",
       "      <td>-1.472215</td>\n",
       "      <td>-0.169352</td>\n",
       "      <td>-0.774072</td>\n",
       "      <td>1</td>\n",
       "    </tr>\n",
       "    <tr>\n",
       "      <th>...</th>\n",
       "      <td>...</td>\n",
       "      <td>...</td>\n",
       "      <td>...</td>\n",
       "      <td>...</td>\n",
       "      <td>...</td>\n",
       "      <td>...</td>\n",
       "      <td>...</td>\n",
       "      <td>...</td>\n",
       "    </tr>\n",
       "    <tr>\n",
       "      <th>6002</th>\n",
       "      <td>3.018099</td>\n",
       "      <td>-0.174792</td>\n",
       "      <td>-1.602719</td>\n",
       "      <td>-1.088129</td>\n",
       "      <td>-1.602719</td>\n",
       "      <td>0.278050</td>\n",
       "      <td>-0.774072</td>\n",
       "      <td>0</td>\n",
       "    </tr>\n",
       "    <tr>\n",
       "      <th>6003</th>\n",
       "      <td>3.117019</td>\n",
       "      <td>-0.174792</td>\n",
       "      <td>0.756163</td>\n",
       "      <td>0.184368</td>\n",
       "      <td>0.756163</td>\n",
       "      <td>-10.683296</td>\n",
       "      <td>-2.302552</td>\n",
       "      <td>1</td>\n",
       "    </tr>\n",
       "    <tr>\n",
       "      <th>6004</th>\n",
       "      <td>3.215939</td>\n",
       "      <td>-0.174792</td>\n",
       "      <td>-0.042044</td>\n",
       "      <td>-0.017270</td>\n",
       "      <td>-0.042044</td>\n",
       "      <td>-1.096113</td>\n",
       "      <td>-0.555718</td>\n",
       "      <td>1</td>\n",
       "    </tr>\n",
       "    <tr>\n",
       "      <th>6005</th>\n",
       "      <td>3.314858</td>\n",
       "      <td>-0.174792</td>\n",
       "      <td>-1.277384</td>\n",
       "      <td>-0.930884</td>\n",
       "      <td>-1.277384</td>\n",
       "      <td>0.501751</td>\n",
       "      <td>-1.429135</td>\n",
       "      <td>1</td>\n",
       "    </tr>\n",
       "    <tr>\n",
       "      <th>6006</th>\n",
       "      <td>4.304056</td>\n",
       "      <td>5.594298</td>\n",
       "      <td>0.572097</td>\n",
       "      <td>-1.255844</td>\n",
       "      <td>0.572097</td>\n",
       "      <td>2.099615</td>\n",
       "      <td>-2.084197</td>\n",
       "      <td>1</td>\n",
       "    </tr>\n",
       "  </tbody>\n",
       "</table>\n",
       "<p>6007 rows × 8 columns</p>\n",
       "</div>"
      ],
      "text/plain": [
       "      product_id  product_qty  unit_net_revenue  unit_gross_revenue  \\\n",
       "0      -3.016008    -0.174792         -1.489400           -1.899575   \n",
       "1      -3.016008    -0.174792         -1.489400           -1.149411   \n",
       "2      -2.917088    -0.174792          0.909088            0.684976   \n",
       "3      -2.818168    -0.174792         -1.472215           -1.147748   \n",
       "4      -2.818168    -0.174792         -1.472215           -1.839172   \n",
       "...          ...          ...               ...                 ...   \n",
       "6002    3.018099    -0.174792         -1.602719           -1.088129   \n",
       "6003    3.117019    -0.174792          0.756163            0.184368   \n",
       "6004    3.215939    -0.174792         -0.042044           -0.017270   \n",
       "6005    3.314858    -0.174792         -1.277384           -0.930884   \n",
       "6006    4.304056     5.594298          0.572097           -1.255844   \n",
       "\n",
       "      current_price        nps  rating_count  target  \n",
       "0         -1.489400   2.099615     -1.647489       1  \n",
       "1         -1.489400   2.099615     -1.647489       1  \n",
       "2          0.909088  -1.096113     -2.084197       1  \n",
       "3         -1.472215  -0.169352     -0.774072       1  \n",
       "4         -1.472215  -0.169352     -0.774072       1  \n",
       "...             ...        ...           ...     ...  \n",
       "6002      -1.602719   0.278050     -0.774072       0  \n",
       "6003       0.756163 -10.683296     -2.302552       1  \n",
       "6004      -0.042044  -1.096113     -0.555718       1  \n",
       "6005      -1.277384   0.501751     -1.429135       1  \n",
       "6006       0.572097   2.099615     -2.084197       1  \n",
       "\n",
       "[6007 rows x 8 columns]"
      ]
     },
     "execution_count": 31,
     "metadata": {},
     "output_type": "execute_result"
    }
   ],
   "source": [
    "from sklearn.preprocessing import StandardScaler\n",
    "import random\n",
    "\n",
    "scaler = StandardScaler()\n",
    "scaled_data = scaler.fit_transform(pedidos)\n",
    "scaled_orders = pd.DataFrame(scaled_data)\n",
    "scaled_orders.columns = pedidos.columns\n",
    "scaled_orders['target'] = [random.randrange(0, 2, 1) for i in range(6007)]\n",
    "scaled_orders"
   ]
  },
  {
   "cell_type": "markdown",
   "metadata": {},
   "source": [
    "### Corelação das variáveis "
   ]
  },
  {
   "cell_type": "code",
   "execution_count": 32,
   "metadata": {},
   "outputs": [
    {
     "data": {
      "text/plain": [
       "<AxesSubplot:>"
      ]
     },
     "execution_count": 32,
     "metadata": {},
     "output_type": "execute_result"
    },
    {
     "data": {
      "image/png": "[encoded data removed]",
      "text/plain": [
       "<Figure size 432x288 with 2 Axes>"
      ]
     },
     "metadata": {
      "needs_background": "light"
     },
     "output_type": "display_data"
    }
   ],
   "source": [
    "sns.heatmap(scaled_orders.corr())"
   ]
  },
  {
   "cell_type": "code",
   "execution_count": 35,
   "metadata": {},
   "outputs": [
    {
     "data": {
      "text/plain": [
       "(array([[ 1.73214188, -0.17479182,  0.94699461, ...,  0.94699461,\n",
       "          1.46046942, -1.21078068],\n",
       "        [ 0.14942536, -0.17479182, -0.73553326, ..., -0.73553326,\n",
       "         -0.29718087,  1.19111536],\n",
       "        [ 1.83106167, -0.17479182,  0.30939472, ...,  0.30939472,\n",
       "          1.04502481, -1.64748905],\n",
       "        ...,\n",
       "        [-0.64193291, -0.17479182,  1.19195305, ...,  1.19195305,\n",
       "          0.27805013, -0.77407231],\n",
       "        [-0.14733399, -0.17479182,  0.21442318, ...,  0.21442318,\n",
       "         -1.09611283, -1.21078068],\n",
       "        [-0.14733399, -0.17479182,  0.21442318, ...,  0.21442318,\n",
       "         -1.09611283, -1.21078068]]),\n",
       " array([[ 0.05050557, -0.17479182, -1.59358987, ..., -1.59358987,\n",
       "         -1.63938656, -0.9924265 ],\n",
       "        [ 0.4461847 , -0.17479182, -0.54041223, ..., -0.54041223,\n",
       "          0.69349475, -0.33736394],\n",
       "        [ 0.4461847 , -0.17479182, -0.54041223, ..., -0.54041223,\n",
       "          0.69349475, -0.33736394],\n",
       "        ...,\n",
       "        [ 0.54510449, -0.17479182, -1.35517137, ..., -1.35517137,\n",
       "          0.05434918,  0.75440699],\n",
       "        [ 0.84186384, -0.17479182,  0.13896644, ...,  0.13896644,\n",
       "          0.50175108, -0.11900976],\n",
       "        [ 0.74294405, -0.17479182,  1.31842851, ...,  1.31842851,\n",
       "         -1.09611283, -0.33736394]]),\n",
       " array([0, 1, 1, ..., 0, 1, 0], dtype=int64),\n",
       " array([1, 1, 0, ..., 1, 1, 1], dtype=int64))"
      ]
     },
     "execution_count": 35,
     "metadata": {},
     "output_type": "execute_result"
    }
   ],
   "source": [
    "from sklearn.linear_model import LogisticRegression\n",
    "from sklearn.model_selection import train_test_split\n",
    "\n",
    "X = scaled_orders.drop('target', axis=1).values\n",
    "Y = scaled_orders['target'].values\n",
    "\n",
    "X_treino, X_teste, Y_treino, Y_teste = train_test_split(X, Y, test_size=0.25, random_state=0)\n",
    "\n",
    "X_treino, X_teste, Y_treino, Y_teste"
   ]
  },
  {
   "cell_type": "code",
   "execution_count": 36,
   "metadata": {},
   "outputs": [
    {
     "data": {
      "text/html": [
       "<style>#sk-container-id-1 {color: black;background-color: white;}#sk-container-id-1 pre{padding: 0;}#sk-container-id-1 div.sk-toggleable {background-color: white;}#sk-container-id-1 label.sk-toggleable__label {cursor: pointer;display: block;width: 100%;margin-bottom: 0;padding: 0.3em;box-sizing: border-box;text-align: center;}#sk-container-id-1 label.sk-toggleable__label-arrow:before {content: \"▸\";float: left;margin-right: 0.25em;color: #696969;}#sk-container-id-1 label.sk-toggleable__label-arrow:hover:before {color: black;}#sk-container-id-1 div.sk-estimator:hover label.sk-toggleable__label-arrow:before {color: black;}#sk-container-id-1 div.sk-toggleable__content {max-height: 0;max-width: 0;overflow: hidden;text-align: left;background-color: #f0f8ff;}#sk-container-id-1 div.sk-toggleable__content pre {margin: 0.2em;color: black;border-radius: 0.25em;background-color: #f0f8ff;}#sk-container-id-1 input.sk-toggleable__control:checked~div.sk-toggleable__content {max-height: 200px;max-width: 100%;overflow: auto;}#sk-container-id-1 input.sk-toggleable__control:checked~label.sk-toggleable__label-arrow:before {content: \"▾\";}#sk-container-id-1 div.sk-estimator input.sk-toggleable__control:checked~label.sk-toggleable__label {background-color: #d4ebff;}#sk-container-id-1 div.sk-label input.sk-toggleable__control:checked~label.sk-toggleable__label {background-color: #d4ebff;}#sk-container-id-1 input.sk-hidden--visually {border: 0;clip: rect(1px 1px 1px 1px);clip: rect(1px, 1px, 1px, 1px);height: 1px;margin: -1px;overflow: hidden;padding: 0;position: absolute;width: 1px;}#sk-container-id-1 div.sk-estimator {font-family: monospace;background-color: #f0f8ff;border: 1px dotted black;border-radius: 0.25em;box-sizing: border-box;margin-bottom: 0.5em;}#sk-container-id-1 div.sk-estimator:hover {background-color: #d4ebff;}#sk-container-id-1 div.sk-parallel-item::after {content: \"\";width: 100%;border-bottom: 1px solid gray;flex-grow: 1;}#sk-container-id-1 div.sk-label:hover label.sk-toggleable__label {background-color: #d4ebff;}#sk-container-id-1 div.sk-serial::before {content: \"\";position: absolute;border-left: 1px solid gray;box-sizing: border-box;top: 0;bottom: 0;left: 50%;z-index: 0;}#sk-container-id-1 div.sk-serial {display: flex;flex-direction: column;align-items: center;background-color: white;padding-right: 0.2em;padding-left: 0.2em;position: relative;}#sk-container-id-1 div.sk-item {position: relative;z-index: 1;}#sk-container-id-1 div.sk-parallel {display: flex;align-items: stretch;justify-content: center;background-color: white;position: relative;}#sk-container-id-1 div.sk-item::before, #sk-container-id-1 div.sk-parallel-item::before {content: \"\";position: absolute;border-left: 1px solid gray;box-sizing: border-box;top: 0;bottom: 0;left: 50%;z-index: -1;}#sk-container-id-1 div.sk-parallel-item {display: flex;flex-direction: column;z-index: 1;position: relative;background-color: white;}#sk-container-id-1 div.sk-parallel-item:first-child::after {align-self: flex-end;width: 50%;}#sk-container-id-1 div.sk-parallel-item:last-child::after {align-self: flex-start;width: 50%;}#sk-container-id-1 div.sk-parallel-item:only-child::after {width: 0;}#sk-container-id-1 div.sk-dashed-wrapped {border: 1px dashed gray;margin: 0 0.4em 0.5em 0.4em;box-sizing: border-box;padding-bottom: 0.4em;background-color: white;}#sk-container-id-1 div.sk-label label {font-family: monospace;font-weight: bold;display: inline-block;line-height: 1.2em;}#sk-container-id-1 div.sk-label-container {text-align: center;}#sk-container-id-1 div.sk-container {/* jupyter's `normalize.less` sets `[hidden] { display: none; }` but bootstrap.min.css set `[hidden] { display: none !important; }` so we also need the `!important` here to be able to override the default hidden behavior on the sphinx rendered scikit-learn.org. See: https://github.com/scikit-learn/scikit-learn/issues/21755 */display: inline-block !important;position: relative;}#sk-container-id-1 div.sk-text-repr-fallback {display: none;}</style><div id=\"sk-container-id-1\" class=\"sk-top-container\"><div class=\"sk-text-repr-fallback\"><pre>LogisticRegression()</pre><b>In a Jupyter environment, please rerun this cell to show the HTML representation or trust the notebook. <br />On GitHub, the HTML representation is unable to render, please try loading this page with nbviewer.org.</b></div><div class=\"sk-container\" hidden><div class=\"sk-item\"><div class=\"sk-estimator sk-toggleable\"><input class=\"sk-toggleable__control sk-hidden--visually\" id=\"sk-estimator-id-1\" type=\"checkbox\" checked><label for=\"sk-estimator-id-1\" class=\"sk-toggleable__label sk-toggleable__label-arrow\">LogisticRegression</label><div class=\"sk-toggleable__content\"><pre>LogisticRegression()</pre></div></div></div></div></div>"
      ],
      "text/plain": [
       "LogisticRegression()"
      ]
     },
     "execution_count": 36,
     "metadata": {},
     "output_type": "execute_result"
    }
   ],
   "source": [
    "modelo = LogisticRegression()\n",
    "modelo.fit(X_treino, Y_treino)"
   ]
  },
  {
   "cell_type": "code",
   "execution_count": 37,
   "metadata": {},
   "outputs": [
    {
     "data": {
      "text/plain": [
       "0.5125416204217536"
      ]
     },
     "execution_count": 37,
     "metadata": {},
     "output_type": "execute_result"
    }
   ],
   "source": [
    "score_treino = modelo.score(X_treino, Y_treino)\n",
    "score_treino"
   ]
  },
  {
   "cell_type": "code",
   "execution_count": 38,
   "metadata": {},
   "outputs": [
    {
     "data": {
      "text/plain": [
       "array([1, 0, 0, ..., 1, 0, 0], dtype=int64)"
      ]
     },
     "execution_count": 38,
     "metadata": {},
     "output_type": "execute_result"
    }
   ],
   "source": [
    "Y_previsto = modelo.predict(X_teste)\n",
    "Y_previsto"
   ]
  },
  {
   "cell_type": "code",
   "execution_count": 39,
   "metadata": {},
   "outputs": [
    {
     "data": {
      "text/plain": [
       "0.4840213049267643"
      ]
     },
     "execution_count": 39,
     "metadata": {},
     "output_type": "execute_result"
    }
   ],
   "source": [
    "score_teste = modelo.score(X_teste, Y_teste)\n",
    "score_teste"
   ]
  },
  {
   "cell_type": "code",
   "execution_count": 41,
   "metadata": {},
   "outputs": [
    {
     "data": {
      "text/plain": [
       "<AxesSubplot:>"
      ]
     },
     "execution_count": 41,
     "metadata": {},
     "output_type": "execute_result"
    },
    {
     "data": {
      "image/png": "[encoded data removed]",
      "text/plain": [
       "<Figure size 432x288 with 2 Axes>"
      ]
     },
     "metadata": {
      "needs_background": "light"
     },
     "output_type": "display_data"
    }
   ],
   "source": [
    "from sklearn.metrics import confusion_matrix\n",
    "cm = confusion_matrix(Y_teste, Y_previsto)\n",
    "sns.heatmap(cm,annot=True, fmt=\"d\")"
   ]
  },
  {
   "cell_type": "code",
   "execution_count": 42,
   "metadata": {},
   "outputs": [
    {
     "data": {
      "text/plain": [
       "48.429157837809086"
      ]
     },
     "execution_count": 42,
     "metadata": {},
     "output_type": "execute_result"
    }
   ],
   "source": [
    "from sklearn.metrics import roc_curve, roc_auc_score, auc\n",
    "fpr, tpr, _ = roc_curve(Y_teste, Y_previsto)\n",
    "roc_auc = auc(fpr, tpr) * 100\n",
    "roc_auc"
   ]
  },
  {
   "cell_type": "code",
   "execution_count": 44,
   "metadata": {},
   "outputs": [
    {
     "data": {
      "text/plain": [
       "[<matplotlib.lines.Line2D at 0x1d0b03221a0>]"
      ]
     },
     "execution_count": 44,
     "metadata": {},
     "output_type": "execute_result"
    },
    {
     "data": {
      "image/png": "[encoded data removed]",
      "text/plain": [
       "<Figure size 432x288 with 1 Axes>"
      ]
     },
     "metadata": {
      "needs_background": "light"
     },
     "output_type": "display_data"
    }
   ],
   "source": [
    "import matplotlib.pyplot as plt\n",
    "\n",
    "plt.plot(fpr, tpr)"
   ]
  }
 ],
 "metadata": {
  "kernelspec": {
   "display_name": "Python 3.10.6 64-bit",
   "language": "python",
   "name": "python3"
  },
  "language_info": {
   "codemirror_mode": {
    "name": "ipython",
    "version": 3
   },
   "file_extension": ".py",
   "mimetype": "text/x-python",
   "name": "python",
   "nbconvert_exporter": "python",
   "pygments_lexer": "ipython3",
   "version": "3.10.6"
  },
  "orig_nbformat": 4,
  "vscode": {
   "interpreter": {
    "hash": "369f2c481f4da34e4445cda3fffd2e751bd1c4d706f27375911949ba6bb62e1c"
   }
  }
 },
 "nbformat": 4,
 "nbformat_minor": 2
}
