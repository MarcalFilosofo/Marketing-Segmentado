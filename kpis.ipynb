{
 "cells": [
  {
   "cell_type": "code",
   "execution_count": 1,
   "metadata": {},
   "outputs": [],
   "source": [
    "import numpy as np\n",
    "import pandas as pd\n",
    "import seaborn as sns\n",
    "import mariadb\n",
    "import sys\n",
    "\n",
    "import os\n",
    "from dotenv import load_dotenv\n"
   ]
  },
  {
   "cell_type": "markdown",
   "metadata": {},
   "source": [
    "### Conexão com o banco de dados"
   ]
  },
  {
   "cell_type": "code",
   "execution_count": 2,
   "metadata": {},
   "outputs": [],
   "source": [
    "class DBConnection:\n",
    "    @staticmethod\n",
    "    def getConnection():\n",
    "        load_dotenv(override=True)\n",
    "        try:\n",
    "            conn = mariadb.connect(\n",
    "                user=os.environ['DATABASE_USERNAME'],\n",
    "                password=os.environ['DATABASE_PASSWORD'],\n",
    "                host=os.environ['HOST_CONNECT'],\n",
    "                port=int(os.environ['DATABASE_PORT']),\n",
    "                database=os.environ['DATABASE_NAME']\n",
    "\n",
    "            )\n",
    "        except mariadb.Error as e:\n",
    "            print(f\"Error connecting to MariaDB Platform: {e}\")\n",
    "            sys.exit(1)\n",
    "            \n",
    "        return conn.cursor(dictionary=True)\n",
    "\n",
    "conn = DBConnection.getConnection()\n"
   ]
  },
  {
   "cell_type": "code",
   "execution_count": null,
   "metadata": {},
   "outputs": [],
   "source": [
    "conn.execute(\"\"\"\n",
    "            SELECT \n",
    "                wp_posts.ID,\n",
    "                wp_posts.post_title,\n",
    "                Round(Avg(DISTINCT(wp_commentmeta.meta_value)), 1) AS nps,\n",
    "                COUNT(DISTINCT(wp_wc_order_product_lookup.product_id)) as qt_orders,\n",
    "                COUNT(DISTINCT(wp_commentmeta.meta_id)) as rating_count,\n",
    "                Round(wp_wc_product_meta_lookup.max_price, 2) as current_price,\n",
    "                wp_wc_product_meta_lookup.stock_quantity,\n",
    "                CASE \n",
    "                    WHEN wp_wc_product_meta_lookup.stock_status = \"instock\" THEN 1\n",
    "                    ELSE 0\n",
    "                END as stock_status\n",
    "            FROM   wp_posts\n",
    "                LEFT JOIN wp_comments\n",
    "                        ON wp_posts.id = wp_comments.comment_post_id\n",
    "                LEFT JOIN wp_commentmeta\n",
    "                        ON wp_comments.comment_id = wp_commentmeta.comment_id\n",
    "                LEFT JOIN wp_wc_order_product_lookup\n",
    "                        ON wp_posts.ID = wp_wc_order_product_lookup.product_id\n",
    "                LEFT JOIN wp_wc_product_meta_lookup\n",
    "                        ON wp_posts.ID = wp_wc_product_meta_lookup.product_id\n",
    "            WHERE \n",
    "            (wp_commentmeta.meta_key = 'rating' OR wp_commentmeta.meta_key is null)\n",
    "            AND wp_posts.post_type = \"product\"\n",
    "            GROUP BY wp_posts.post_title  \n",
    "        \"\"\")\n",
    "\n",
    "products_kpis_1 = pd.DataFrame(self.conn.fetchall())\n",
    "\n",
    "products_kpis_list = []\n",
    "\n",
    "for index, row in products_kpis_1.iterrows():\n",
    "    index_recompra = self.get_index_recompra(row['ID'])\n",
    "    new_row = dict({\n",
    "        \"id\": row['ID'],\n",
    "        \"post_title\": row['post_title'],\n",
    "        \"current_price\": row['current_price'],\n",
    "        \"nps\": row['nps'],\n",
    "        \"stock_quantity\": row['stock_quantity'],\n",
    "        \"stock_status\": row['stock_status'],\n",
    "        \"qt_orders\": row['qt_orders'],\n",
    "        \"rating_count\": row['rating_count'],\n",
    "        \"repurchase\": index_recompra,\n",
    "    })\n",
    "    products_kpis_list.append(new_row)\n",
    "\n",
    "products_kpi = pd.DataFrame(products_kpis_list)\n",
    "\n",
    "products_kpi['nps'] = products_kpi['nps'].fillna(0)\n",
    "products_kpi['stock_quantity'] = products_kpi['stock_quantity'].fillna(99999)\n",
    "\n",
    "X = np.array(products_kpi.drop(['post_title', 'id', 'current_price'], axis=1))\n",
    "\n",
    "kmeans = KMeans(n_clusters=3, random_state=0).fit(X)\n",
    "\n",
    "classes = list(map(self.padronizar_classe, kmeans.labels_))\n",
    "products_kpi['K_classes'] = classes\n",
    "\n",
    "scaler = StandardScaler()\n",
    "\n",
    "scaled_data = scaler.fit_transform(pedidos)\n",
    "\n",
    "scaled_orders = pd.DataFrame(scaled_data)\n",
    "\n",
    "\n",
    "products_kpi = products_kpi.sort_values(by='K_classes')"
   ]
  },
  {
   "cell_type": "code",
   "execution_count": 3,
   "metadata": {},
   "outputs": [],
   "source": [
    "def get_index_recompra(product_id):\n",
    "    conn.execute(\"\"\"\n",
    "            SELECT COUNT(*) qt, customer_id, product_id FROM `wp_wc_order_product_lookup`\n",
    "            WHERE product_id  = %s\n",
    "            GROUP BY customer_id, product_id\n",
    "        \"\"\", [product_id])\n",
    "\n",
    "    pedidos = pd.DataFrame(conn.fetchall())\n",
    "\n",
    "    try:\n",
    "        sum_compras = np.sum(list(pedidos['qt']))\n",
    "\n",
    "        filter = pedidos['qt'] > 1\n",
    "\n",
    "        recompras = pedidos.where(filter)\n",
    "        sum_recompras = np.sum(list(recompras['qt'].fillna(0)))\n",
    "\n",
    "        if (sum_compras == 0):\n",
    "            return 0\n",
    "\n",
    "        num_recompra = round(sum_recompras / sum_compras * 100, 2)\n",
    "        return num_recompra\n",
    "    except KeyError:\n",
    "        return 0\n"
   ]
  },
  {
   "cell_type": "code",
   "execution_count": 6,
   "metadata": {},
   "outputs": [],
   "source": [
    "sns.pairplot(products_kpi)"
   ]
  },
  {
   "cell_type": "code",
   "execution_count": 26,
   "metadata": {},
   "outputs": [],
   "source": [
    "X = np.array(products_kpi.drop(['post_title', 'id'], axis=1))"
   ]
  },
  {
   "cell_type": "code",
   "execution_count": 8,
   "metadata": {},
   "outputs": [],
   "source": [
    "from sklearn.cluster import KMeans"
   ]
  },
  {
   "cell_type": "code",
   "execution_count": 27,
   "metadata": {},
   "outputs": [],
   "source": [
    "kmeans = KMeans(n_clusters=3, random_state=0)"
   ]
  },
  {
   "cell_type": "code",
   "execution_count": 28,
   "metadata": {},
   "outputs": [
    {
     "data": {
      "text/plain": [
       "array([[39567.978776  , 19229.88150087, 11962.2239524 ],\n",
       "       [56787.99402369,  2011.09542544, 29182.10604092],\n",
       "       [31640.48286196, 27157.16720102,  4034.58650356],\n",
       "       [ 1699.15927628, 60496.68095971, 29304.99147414],\n",
       "       [16671.73204368, 42126.16223002, 10934.69767559],\n",
       "       [64748.50967039,  5950.9262197 , 37142.57124524],\n",
       "       [43010.89175841, 15786.99270948, 15405.08330048],\n",
       "       [64674.30970301,  5876.73009285, 37068.37163474],\n",
       "       [52653.10070836,  6144.5878391 , 25047.16432269],\n",
       "       [32892.93226246, 25904.71659923,  5287.0203695 ],\n",
       "       [ 4221.40824498, 54577.0469792 , 23385.4412991 ],\n",
       "       [ 2599.14314955, 61396.70062373, 30205.01080416],\n",
       "       [  258.78987229, 59055.65111264, 27863.96182339],\n",
       "       [57101.04331676,  1698.29544809, 29495.15435599],\n",
       "       [ 7801.4417557 , 50996.22174321, 19804.5343921 ],\n",
       "       [62228.66019472,  3431.11954283, 34622.72214139],\n",
       "       [17416.49322718, 41381.39330805, 10189.9485807 ],\n",
       "       [21589.02576402, 37208.62402523,  6016.95790289],\n",
       "       [ 7562.40974511, 66360.02020664, 35168.32976199],\n",
       "       [16144.15984839, 42653.49296852, 11461.81218734],\n",
       "       [40747.55148593, 18050.10348931, 13141.62189384],\n",
       "       [46674.10054187, 12123.55859045, 19068.16522311],\n",
       "       [49614.07076013,  9183.60007412, 22008.1352502 ],\n",
       "       [48529.4709414 , 10268.19655132, 20923.53582242],\n",
       "       [22846.21523397, 35951.43439071,  4759.77723976],\n",
       "       [ 6426.34774758, 52371.32148607, 21179.63356767],\n",
       "       [ 7924.83105325, 66722.44093341, 35530.75107185],\n",
       "       [58196.5800512 ,   601.5988057 , 30590.64284689],\n",
       "       [ 9827.47253002, 68624.8162375 , 37433.1693896 ],\n",
       "       [26842.23483847, 31955.41561096,   763.99240258],\n",
       "       [ 2546.56026048, 56251.1611433 , 25059.47231824],\n",
       "       [75350.76978784, 16553.26430528, 47744.85313842],\n",
       "       [ 7443.57155779, 51354.09158476, 20162.40403914],\n",
       "       [22751.51564349, 36046.13493076,  4854.48015546],\n",
       "       [49851.14137959,  8946.53290384, 22245.2060368 ],\n",
       "       [ 7636.46960978, 66434.08048003, 35242.39018547],\n",
       "       [70471.03957327, 11673.43400812, 42865.10124062],\n",
       "       [ 6354.20550442, 65151.82706177, 33960.13574677],\n",
       "       [ 2620.60957692, 61418.17059233, 30226.48070375],\n",
       "       [32288.54295662, 26509.10742309,  4682.63947562],\n",
       "       [22536.13536769, 36261.51424273,  5069.85418883],\n",
       "       [46638.80152501, 12158.86255434, 19032.86741871],\n",
       "       [ 6897.63567917, 51900.03154665, 20708.34379662],\n",
       "       [ 7549.50948399, 51248.16329997, 20056.47805984],\n",
       "       [13717.30467994, 45080.35436616, 13888.67426255],\n",
       "       [32103.53276148, 26694.11750221,  4497.63176203],\n",
       "       [37440.24254465, 21357.41264965,  9834.32135367],\n",
       "       [18724.36837496, 40073.28354044,  8881.60791357],\n",
       "       [71593.38925496, 12795.77961307, 43987.45070868],\n",
       "       [75184.92971785, 16387.3177611 , 47578.99144105],\n",
       "       [10086.33489748, 68883.95071289, 37692.26054764],\n",
       "       [ 3197.69685321, 55600.9957558 , 24409.38482953],\n",
       "       [19465.86760317, 39331.7836091 ,  8140.1096244 ],\n",
       "       [64969.30974223,  6171.72610445, 37363.37142684],\n",
       "       [61473.27027409,  2675.77257989, 33867.33334689],\n",
       "       [ 5780.2062515 , 53017.47257053, 21825.78583461],\n",
       "       [62906.69015063,  4109.13380506, 35300.75201686],\n",
       "       [ 9012.04476673, 67809.3569238 , 36617.71169591],\n",
       "       [43996.20133817, 14801.45890227, 16390.27003444],\n",
       "       [27224.10491815, 31573.7340093 ,   390.21698773],\n",
       "       [21656.47604462, 37141.17398612,  5949.508218  ],\n",
       "       [24900.87418051, 33896.77442168,  2705.14503779],\n",
       "       [62231.35887239,  3434.49260493, 34625.45857015],\n",
       "       [21021.27563639, 37776.37378183,  6584.70450857],\n",
       "       [42318.47129029, 16479.18499367, 14712.53998941],\n",
       "       [54714.03637582,  4084.34622731, 27108.15472438],\n",
       "       [19071.07697981, 39726.57348653,  8534.89794065],\n",
       "       [51572.49001763,  7225.59594235, 23966.62030916],\n",
       "       [58982.29971506,   186.34384486, 31376.36234587],\n",
       "       [39277.15141535, 19520.50118533, 11671.22262291]])"
      ]
     },
     "execution_count": 28,
     "metadata": {},
     "output_type": "execute_result"
    }
   ],
   "source": [
    "kmeans.fit_transform(X)"
   ]
  },
  {
   "cell_type": "code",
   "execution_count": 40,
   "metadata": {},
   "outputs": [
    {
     "data": {
      "text/plain": [
       "[70760.08422926757,\n",
       " 87981.19549004722,\n",
       " 62832.2365665358,\n",
       " 91500.83171014003,\n",
       " 69732.59194929317,\n",
       " 107842.00713532453,\n",
       " 74202.96776836843,\n",
       " 107619.41143059624,\n",
       " 83844.85287015181,\n",
       " 64084.66923119099,\n",
       " 82183.89652328505,\n",
       " 94200.85457743157,\n",
       " 87178.40280832237,\n",
       " 88294.49312084167,\n",
       " 78602.19789101087,\n",
       " 100282.50187894312,\n",
       " 68987.83511593424,\n",
       " 64814.60769214576,\n",
       " 109090.75971374215,\n",
       " 70259.46500424648,\n",
       " 71939.27686907831,\n",
       " 77865.8243554336,\n",
       " 80805.80608445175,\n",
       " 79721.20331513736,\n",
       " 63557.42686443461,\n",
       " 79977.30280132729,\n",
       " 110178.02305851315,\n",
       " 89388.82170379095,\n",
       " 115885.45815712117,\n",
       " 59561.64285200602,\n",
       " 83857.1937220203,\n",
       " 139648.88723153953,\n",
       " 78960.06718169348,\n",
       " 63652.130729709264,\n",
       " 81042.88032023692,\n",
       " 109312.94027527038,\n",
       " 125009.5748220142,\n",
       " 105466.16831296247,\n",
       " 94265.26087299576,\n",
       " 63480.2898553311,\n",
       " 63867.503799248865,\n",
       " 77830.53149806397,\n",
       " 79506.01102243508,\n",
       " 78854.15084379104,\n",
       " 72686.33330864755,\n",
       " 63295.28202571407,\n",
       " 68631.97654796769,\n",
       " 67679.25982897381,\n",
       " 128376.61957670702,\n",
       " 139151.23892000434,\n",
       " 116662.5461580104,\n",
       " 83208.07743853754,\n",
       " 66937.76083666645,\n",
       " 108504.40727351824,\n",
       " 98016.37620087816,\n",
       " 80623.4646566423,\n",
       " 102316.57597256014,\n",
       " 113439.11338644521,\n",
       " 75187.93027488132,\n",
       " 59188.05591518368,\n",
       " 64747.15824874587,\n",
       " 61502.79363997405,\n",
       " 100291.31004747286,\n",
       " 65382.35392680264,\n",
       " 73510.19627337912,\n",
       " 85906.53732749866,\n",
       " 67332.54840698665,\n",
       " 82764.70626914492,\n",
       " 90545.00590579156,\n",
       " 70468.87522360074]"
      ]
     },
     "execution_count": 40,
     "metadata": {},
     "output_type": "execute_result"
    }
   ],
   "source": [
    "kmeans.labels_\n",
    "w = kmeans.transform(X)\n",
    "\n",
    "w = list(map(lambda x: x.sum(), w))\n",
    "w"
   ]
  },
  {
   "cell_type": "code",
   "execution_count": 41,
   "metadata": {},
   "outputs": [
    {
     "data": {
      "text/html": [
       "<div>\n",
       "<style scoped>\n",
       "    .dataframe tbody tr th:only-of-type {\n",
       "        vertical-align: middle;\n",
       "    }\n",
       "\n",
       "    .dataframe tbody tr th {\n",
       "        vertical-align: top;\n",
       "    }\n",
       "\n",
       "    .dataframe thead th {\n",
       "        text-align: right;\n",
       "    }\n",
       "</style>\n",
       "<table border=\"1\" class=\"dataframe\">\n",
       "  <thead>\n",
       "    <tr style=\"text-align: right;\">\n",
       "      <th></th>\n",
       "      <th>id</th>\n",
       "      <th>post_title</th>\n",
       "      <th>current_price</th>\n",
       "      <th>nps</th>\n",
       "      <th>qt_orders</th>\n",
       "      <th>rating_count</th>\n",
       "      <th>repurchase</th>\n",
       "      <th>K_classes</th>\n",
       "      <th>distance</th>\n",
       "    </tr>\n",
       "  </thead>\n",
       "  <tbody>\n",
       "    <tr>\n",
       "      <th>0</th>\n",
       "      <td>96</td>\n",
       "      <td>1500</td>\n",
       "      <td>48579.35</td>\n",
       "      <td>3.5</td>\n",
       "      <td>0</td>\n",
       "      <td>3</td>\n",
       "      <td>0.00</td>\n",
       "      <td>2</td>\n",
       "      <td>70760.084229</td>\n",
       "    </tr>\n",
       "    <tr>\n",
       "      <th>1</th>\n",
       "      <td>92</td>\n",
       "      <td>350Z</td>\n",
       "      <td>31359.31</td>\n",
       "      <td>3.0</td>\n",
       "      <td>0</td>\n",
       "      <td>2</td>\n",
       "      <td>0.00</td>\n",
       "      <td>1</td>\n",
       "      <td>87981.195490</td>\n",
       "    </tr>\n",
       "    <tr>\n",
       "      <th>2</th>\n",
       "      <td>32</td>\n",
       "      <td>370Z</td>\n",
       "      <td>56506.77</td>\n",
       "      <td>3.0</td>\n",
       "      <td>1</td>\n",
       "      <td>10</td>\n",
       "      <td>100.00</td>\n",
       "      <td>2</td>\n",
       "      <td>62832.236567</td>\n",
       "    </tr>\n",
       "    <tr>\n",
       "      <th>3</th>\n",
       "      <td>42</td>\n",
       "      <td>5000S</td>\n",
       "      <td>89846.29</td>\n",
       "      <td>3.0</td>\n",
       "      <td>1</td>\n",
       "      <td>16</td>\n",
       "      <td>99.39</td>\n",
       "      <td>0</td>\n",
       "      <td>91500.831710</td>\n",
       "    </tr>\n",
       "    <tr>\n",
       "      <th>4</th>\n",
       "      <td>101</td>\n",
       "      <td>911</td>\n",
       "      <td>71475.71</td>\n",
       "      <td>3.5</td>\n",
       "      <td>0</td>\n",
       "      <td>2</td>\n",
       "      <td>0.00</td>\n",
       "      <td>2</td>\n",
       "      <td>69732.591949</td>\n",
       "    </tr>\n",
       "    <tr>\n",
       "      <th>...</th>\n",
       "      <td>...</td>\n",
       "      <td>...</td>\n",
       "      <td>...</td>\n",
       "      <td>...</td>\n",
       "      <td>...</td>\n",
       "      <td>...</td>\n",
       "      <td>...</td>\n",
       "      <td>...</td>\n",
       "      <td>...</td>\n",
       "    </tr>\n",
       "    <tr>\n",
       "      <th>65</th>\n",
       "      <td>90</td>\n",
       "      <td>W201</td>\n",
       "      <td>33433.27</td>\n",
       "      <td>4.0</td>\n",
       "      <td>0</td>\n",
       "      <td>1</td>\n",
       "      <td>0.00</td>\n",
       "      <td>1</td>\n",
       "      <td>85906.537327</td>\n",
       "    </tr>\n",
       "    <tr>\n",
       "      <th>66</th>\n",
       "      <td>30</td>\n",
       "      <td>XC70</td>\n",
       "      <td>69076.18</td>\n",
       "      <td>3.5</td>\n",
       "      <td>2</td>\n",
       "      <td>10</td>\n",
       "      <td>100.00</td>\n",
       "      <td>2</td>\n",
       "      <td>67332.548407</td>\n",
       "    </tr>\n",
       "    <tr>\n",
       "      <th>67</th>\n",
       "      <td>103</td>\n",
       "      <td>XJ</td>\n",
       "      <td>36574.82</td>\n",
       "      <td>2.0</td>\n",
       "      <td>0</td>\n",
       "      <td>1</td>\n",
       "      <td>0.00</td>\n",
       "      <td>1</td>\n",
       "      <td>82764.706269</td>\n",
       "    </tr>\n",
       "    <tr>\n",
       "      <th>68</th>\n",
       "      <td>55</td>\n",
       "      <td>XK</td>\n",
       "      <td>29164.95</td>\n",
       "      <td>3.5</td>\n",
       "      <td>1</td>\n",
       "      <td>15</td>\n",
       "      <td>98.72</td>\n",
       "      <td>1</td>\n",
       "      <td>90545.005906</td>\n",
       "    </tr>\n",
       "    <tr>\n",
       "      <th>69</th>\n",
       "      <td>54</td>\n",
       "      <td>Z8</td>\n",
       "      <td>48870.10</td>\n",
       "      <td>3.5</td>\n",
       "      <td>1</td>\n",
       "      <td>10</td>\n",
       "      <td>99.51</td>\n",
       "      <td>2</td>\n",
       "      <td>70468.875224</td>\n",
       "    </tr>\n",
       "  </tbody>\n",
       "</table>\n",
       "<p>70 rows × 9 columns</p>\n",
       "</div>"
      ],
      "text/plain": [
       "     id post_title current_price  nps  qt_orders  rating_count  repurchase  \\\n",
       "0    96       1500      48579.35  3.5          0             3        0.00   \n",
       "1    92       350Z      31359.31  3.0          0             2        0.00   \n",
       "2    32       370Z      56506.77  3.0          1            10      100.00   \n",
       "3    42      5000S      89846.29  3.0          1            16       99.39   \n",
       "4   101        911      71475.71  3.5          0             2        0.00   \n",
       "..  ...        ...           ...  ...        ...           ...         ...   \n",
       "65   90       W201      33433.27  4.0          0             1        0.00   \n",
       "66   30       XC70      69076.18  3.5          2            10      100.00   \n",
       "67  103         XJ      36574.82  2.0          0             1        0.00   \n",
       "68   55         XK      29164.95  3.5          1            15       98.72   \n",
       "69   54         Z8      48870.10  3.5          1            10       99.51   \n",
       "\n",
       "    K_classes      distance  \n",
       "0           2  70760.084229  \n",
       "1           1  87981.195490  \n",
       "2           2  62832.236567  \n",
       "3           0  91500.831710  \n",
       "4           2  69732.591949  \n",
       "..        ...           ...  \n",
       "65          1  85906.537327  \n",
       "66          2  67332.548407  \n",
       "67          1  82764.706269  \n",
       "68          1  90545.005906  \n",
       "69          2  70468.875224  \n",
       "\n",
       "[70 rows x 9 columns]"
      ]
     },
     "execution_count": 41,
     "metadata": {},
     "output_type": "execute_result"
    }
   ],
   "source": [
    "products_kpi['K_classes'] = kmeans.labels_\n",
    "products_kpi['distance'] = w\n",
    "products_kpi"
   ]
  },
  {
   "cell_type": "code",
   "execution_count": 12,
   "metadata": {},
   "outputs": [
    {
     "data": {
      "text/plain": [
       "<seaborn.axisgrid.PairGrid at 0x19f5ed498d0>"
      ]
     },
     "execution_count": 12,
     "metadata": {},
     "output_type": "execute_result"
    },
    {
     "data": {
      "image/png": "[encoded data removed]",
      "text/plain": [
       "<Figure size 1135.88x1080 with 42 Axes>"
      ]
     },
     "metadata": {
      "needs_background": "light"
     },
     "output_type": "display_data"
    }
   ],
   "source": [
    "sns.pairplot(products_kpi, hue='K_classes')"
   ]
  },
  {
   "cell_type": "code",
   "execution_count": 22,
   "metadata": {},
   "outputs": [
    {
     "ename": "AttributeError",
     "evalue": "'DataFrame' object has no attribute 'orderBy'",
     "output_type": "error",
     "traceback": [
      "\u001b[1;31m---------------------------------------------------------------------------\u001b[0m",
      "\u001b[1;31mAttributeError\u001b[0m                            Traceback (most recent call last)",
      "\u001b[1;32mc:\\Users\\Guilherme\\Documents\\GitHub\\TCC\\kpis.ipynb Cell 14\u001b[0m in \u001b[0;36m<cell line: 2>\u001b[1;34m()\u001b[0m\n\u001b[0;32m      <a href='vscode-notebook-cell:/c%3A/Users/Guilherme/Documents/GitHub/TCC/kpis.ipynb#X60sZmlsZQ%3D%3D?line=0'>1</a>\u001b[0m products_kpi\u001b[39m.\u001b[39mto_dict(\u001b[39m'\u001b[39m\u001b[39mrecords\u001b[39m\u001b[39m'\u001b[39m)\n\u001b[1;32m----> <a href='vscode-notebook-cell:/c%3A/Users/Guilherme/Documents/GitHub/TCC/kpis.ipynb#X60sZmlsZQ%3D%3D?line=1'>2</a>\u001b[0m products_kpi\u001b[39m.\u001b[39;49morderBy(\u001b[39m'\u001b[39m\u001b[39mK_classes\u001b[39m\u001b[39m'\u001b[39m)\n",
      "File \u001b[1;32mc:\\Python310\\lib\\site-packages\\pandas\\core\\generic.py:5575\u001b[0m, in \u001b[0;36mNDFrame.__getattr__\u001b[1;34m(self, name)\u001b[0m\n\u001b[0;32m   5568\u001b[0m \u001b[39mif\u001b[39;00m (\n\u001b[0;32m   5569\u001b[0m     name \u001b[39mnot\u001b[39;00m \u001b[39min\u001b[39;00m \u001b[39mself\u001b[39m\u001b[39m.\u001b[39m_internal_names_set\n\u001b[0;32m   5570\u001b[0m     \u001b[39mand\u001b[39;00m name \u001b[39mnot\u001b[39;00m \u001b[39min\u001b[39;00m \u001b[39mself\u001b[39m\u001b[39m.\u001b[39m_metadata\n\u001b[0;32m   5571\u001b[0m     \u001b[39mand\u001b[39;00m name \u001b[39mnot\u001b[39;00m \u001b[39min\u001b[39;00m \u001b[39mself\u001b[39m\u001b[39m.\u001b[39m_accessors\n\u001b[0;32m   5572\u001b[0m     \u001b[39mand\u001b[39;00m \u001b[39mself\u001b[39m\u001b[39m.\u001b[39m_info_axis\u001b[39m.\u001b[39m_can_hold_identifiers_and_holds_name(name)\n\u001b[0;32m   5573\u001b[0m ):\n\u001b[0;32m   5574\u001b[0m     \u001b[39mreturn\u001b[39;00m \u001b[39mself\u001b[39m[name]\n\u001b[1;32m-> 5575\u001b[0m \u001b[39mreturn\u001b[39;00m \u001b[39mobject\u001b[39;49m\u001b[39m.\u001b[39;49m\u001b[39m__getattribute__\u001b[39;49m(\u001b[39mself\u001b[39;49m, name)\n",
      "\u001b[1;31mAttributeError\u001b[0m: 'DataFrame' object has no attribute 'orderBy'"
     ]
    }
   ],
   "source": [
    "products_kpi.to_dict('records')\n",
    "products_kpi.sort_values('K_classes')"
   ]
  },
  {
   "cell_type": "code",
   "execution_count": null,
   "metadata": {},
   "outputs": [
    {
     "ename": "NameError",
     "evalue": "name 'conn' is not defined",
     "output_type": "error",
     "traceback": [
      "\u001b[1;31m---------------------------------------------------------------------------\u001b[0m",
      "\u001b[1;31mNameError\u001b[0m                                 Traceback (most recent call last)",
      "\u001b[1;32mc:\\Users\\Guilherme\\Documents\\GitHub\\TCC\\kpis.ipynb Cell 4\u001b[0m in \u001b[0;36m<cell line: 1>\u001b[1;34m()\u001b[0m\n\u001b[1;32m----> <a href='vscode-notebook-cell:/c%3A/Users/Guilherme/Documents/GitHub/TCC/kpis.ipynb#X43sZmlsZQ%3D%3D?line=0'>1</a>\u001b[0m conn\u001b[39m.\u001b[39mexecute(\u001b[39m\"\"\"\u001b[39m\n\u001b[0;32m      <a href='vscode-notebook-cell:/c%3A/Users/Guilherme/Documents/GitHub/TCC/kpis.ipynb#X43sZmlsZQ%3D%3D?line=1'>2</a>\u001b[0m \u001b[39m        SELECT postcode FROM `wp_wc_customer_lookup`  \u001b[39m\n\u001b[0;32m      <a href='vscode-notebook-cell:/c%3A/Users/Guilherme/Documents/GitHub/TCC/kpis.ipynb#X43sZmlsZQ%3D%3D?line=2'>3</a>\u001b[0m \u001b[39m        WHERE postcode is not null and postcode != \u001b[39m\u001b[39m\"\u001b[39m\u001b[39m\"\u001b[39m\u001b[39m;\u001b[39m\n\u001b[0;32m      <a href='vscode-notebook-cell:/c%3A/Users/Guilherme/Documents/GitHub/TCC/kpis.ipynb#X43sZmlsZQ%3D%3D?line=3'>4</a>\u001b[0m \u001b[39m    \u001b[39m\u001b[39m\"\"\"\u001b[39m)\n\u001b[0;32m      <a href='vscode-notebook-cell:/c%3A/Users/Guilherme/Documents/GitHub/TCC/kpis.ipynb#X43sZmlsZQ%3D%3D?line=5'>6</a>\u001b[0m list_post_code \u001b[39m=\u001b[39m pd\u001b[39m.\u001b[39mDataFrame(\u001b[39mself\u001b[39m\u001b[39m.\u001b[39mconn\u001b[39m.\u001b[39mfetchall())\n\u001b[0;32m      <a href='vscode-notebook-cell:/c%3A/Users/Guilherme/Documents/GitHub/TCC/kpis.ipynb#X43sZmlsZQ%3D%3D?line=6'>7</a>\u001b[0m list_post_code \u001b[39m=\u001b[39m \u001b[39mlist\u001b[39m(list_post_code[\u001b[39m'\u001b[39m\u001b[39mpostcode\u001b[39m\u001b[39m'\u001b[39m])\n",
      "\u001b[1;31mNameError\u001b[0m: name 'conn' is not defined"
     ]
    }
   ],
   "source": [
    "import pgeocode\n",
    "\n",
    "conn.execute(\"\"\"\n",
    "        SELECT postcode FROM `wp_wc_customer_lookup`  \n",
    "        WHERE postcode is not null and postcode != \"\";\n",
    "    \"\"\")\n",
    "\n",
    "list_post_code = pd.DataFrame(self.conn.fetchall())\n",
    "list_post_code = list(list_post_code['postcode'])\n",
    "\n",
    "nomi = pgeocode.Nominatim('fr')\n",
    "# list_lat_long = nomi.query_postal_code(list_post_code)\n",
    "teste = nomi.query_postal_code(\"75013\")\n",
    "teste"
   ]
  },
  {
   "cell_type": "markdown",
   "metadata": {},
   "source": [
    "### NPS dos produtos"
   ]
  },
  {
   "cell_type": "code",
   "execution_count": 4,
   "metadata": {},
   "outputs": [
    {
     "data": {
      "text/html": [
       "<div>\n",
       "<style scoped>\n",
       "    .dataframe tbody tr th:only-of-type {\n",
       "        vertical-align: middle;\n",
       "    }\n",
       "\n",
       "    .dataframe tbody tr th {\n",
       "        vertical-align: top;\n",
       "    }\n",
       "\n",
       "    .dataframe thead th {\n",
       "        text-align: right;\n",
       "    }\n",
       "</style>\n",
       "<table border=\"1\" class=\"dataframe\">\n",
       "  <thead>\n",
       "    <tr style=\"text-align: right;\">\n",
       "      <th></th>\n",
       "      <th>post_title</th>\n",
       "      <th>nps</th>\n",
       "    </tr>\n",
       "  </thead>\n",
       "  <tbody>\n",
       "    <tr>\n",
       "      <th>0</th>\n",
       "      <td>E-Class</td>\n",
       "      <td>4.10</td>\n",
       "    </tr>\n",
       "    <tr>\n",
       "      <th>1</th>\n",
       "      <td>Dakota Club</td>\n",
       "      <td>4.00</td>\n",
       "    </tr>\n",
       "    <tr>\n",
       "      <th>2</th>\n",
       "      <td>W201</td>\n",
       "      <td>4.00</td>\n",
       "    </tr>\n",
       "    <tr>\n",
       "      <th>3</th>\n",
       "      <td>Horizon</td>\n",
       "      <td>4.00</td>\n",
       "    </tr>\n",
       "    <tr>\n",
       "      <th>4</th>\n",
       "      <td>Diamante</td>\n",
       "      <td>4.00</td>\n",
       "    </tr>\n",
       "    <tr>\n",
       "      <th>...</th>\n",
       "      <td>...</td>\n",
       "      <td>...</td>\n",
       "    </tr>\n",
       "    <tr>\n",
       "      <th>66</th>\n",
       "      <td>S80</td>\n",
       "      <td>2.80</td>\n",
       "    </tr>\n",
       "    <tr>\n",
       "      <th>67</th>\n",
       "      <td>H1</td>\n",
       "      <td>2.75</td>\n",
       "    </tr>\n",
       "    <tr>\n",
       "      <th>68</th>\n",
       "      <td>SLK-Class</td>\n",
       "      <td>2.50</td>\n",
       "    </tr>\n",
       "    <tr>\n",
       "      <th>69</th>\n",
       "      <td>XJ</td>\n",
       "      <td>2.00</td>\n",
       "    </tr>\n",
       "    <tr>\n",
       "      <th>70</th>\n",
       "      <td>Mazda6</td>\n",
       "      <td>1.00</td>\n",
       "    </tr>\n",
       "  </tbody>\n",
       "</table>\n",
       "<p>71 rows × 2 columns</p>\n",
       "</div>"
      ],
      "text/plain": [
       "     post_title   nps\n",
       "0       E-Class  4.10\n",
       "1   Dakota Club  4.00\n",
       "2          W201  4.00\n",
       "3       Horizon  4.00\n",
       "4      Diamante  4.00\n",
       "..          ...   ...\n",
       "66          S80  2.80\n",
       "67           H1  2.75\n",
       "68    SLK-Class  2.50\n",
       "69           XJ  2.00\n",
       "70       Mazda6  1.00\n",
       "\n",
       "[71 rows x 2 columns]"
      ]
     },
     "execution_count": 4,
     "metadata": {},
     "output_type": "execute_result"
    }
   ],
   "source": [
    "conn.execute(\"\"\"\n",
    "    SELECT wp_posts.post_title, AVG(wp_commentmeta.meta_value) as nps FROM wp_posts\n",
    "    INNER JOIN wp_comments ON wp_posts.ID = wp_comments.comment_post_ID\n",
    "    INNER JOIN wp_commentmeta ON wp_comments.comment_ID = wp_commentmeta.comment_id\n",
    "    WHERE\n",
    "    wp_commentmeta.meta_key = 'rating'\n",
    "    GROUP BY wp_posts.post_title\n",
    "    ORDER BY nps DESC\n",
    "\"\"\")\n",
    "\n",
    "nps = pd.DataFrame(conn.fetchall())\n",
    "nps"
   ]
  },
  {
   "cell_type": "markdown",
   "metadata": {},
   "source": [
    "### Médias"
   ]
  },
  {
   "cell_type": "code",
   "execution_count": 5,
   "metadata": {},
   "outputs": [
    {
     "data": {
      "text/plain": [
       "(  AVG(num_items_sold)\n",
       " 0              2.2466,\n",
       "    AVG(total_sales)\n",
       " 0     273758.872067)"
      ]
     },
     "execution_count": 5,
     "metadata": {},
     "output_type": "execute_result"
    }
   ],
   "source": [
    "conn.execute(\"\"\"\n",
    "    SELECT AVG(total_sales) FROM wp_wc_order_stats\n",
    "\"\"\")\n",
    "\n",
    "ticket_medio = pd.DataFrame(conn.fetchall())\n",
    "\n",
    "conn.execute(\"\"\"\n",
    "    SELECT AVG(num_items_sold) FROM wp_wc_order_stats\n",
    "\"\"\")\n",
    "\n",
    "media_itens_carrinho = pd.DataFrame(conn.fetchall())\n",
    "media_itens_carrinho, ticket_medio"
   ]
  },
  {
   "cell_type": "markdown",
   "metadata": {},
   "source": [
    "### Churn"
   ]
  },
  {
   "cell_type": "markdown",
   "metadata": {},
   "source": [
    "#### Churn mensal\n",
    "\n",
    "O Churn mensal da unidade pode ser calculado da seguinte forma:\n",
    "\n",
    "C = CP / TCMA\n",
    "\n",
    "1. CP é a quantidade de clientes perdidos\n",
    "2. TCMA é o total de clientes no mês anterior\n",
    "3. C é o Churn\n",
    "\n",
    "Vamos considerar como um cliente perdido aquele que não teve nenhuma interação com organização em 24 meses"
   ]
  },
  {
   "cell_type": "code",
   "execution_count": 6,
   "metadata": {},
   "outputs": [
    {
     "data": {
      "text/plain": [
       "7.142857142857142"
      ]
     },
     "execution_count": 6,
     "metadata": {},
     "output_type": "execute_result"
    }
   ],
   "source": [
    "from datetime import datetime, date, timedelta\n",
    "\n",
    "# primeiro_dia_mes = datetime.today().strftime('%Y-%m') + \"-01\"\n",
    "primeiro_dia_mes = \"2022-08-01\"\n",
    "\n",
    "ano_atual = datetime.today().strftime('%Y')\n",
    "dois_anos_atras = str(int(ano_atual) - 2) + \"-\" + datetime.today().strftime('%m-%d')\n",
    "\n",
    "qt_novos_clientes_mes_anterior = conn.execute(\"\"\"\n",
    "    SELECT\n",
    "        count(*) as qt\n",
    "    FROM wp_users\n",
    "    INNER JOIN wp_wc_customer_lookup ON wp_users.ID = wp_wc_customer_lookup.user_id\n",
    "    WHERE user_registered >= %s\n",
    "\"\"\", [primeiro_dia_mes])\n",
    "\n",
    "qt_novos_clientes_mes_anterior = pd.DataFrame(conn.fetchall())\n",
    "\n",
    "qt_clientes_perdios = conn.execute(\"\"\"\n",
    "    SELECT\n",
    "        count(*) as qt\n",
    "    FROM wp_wc_customer_lookup\n",
    "    WHERE wp_wc_customer_lookup.date_last_active < %s\n",
    "\"\"\", [dois_anos_atras])\n",
    "\n",
    "qt_clientes_perdios = pd.DataFrame(conn.fetchall())\n",
    "\n",
    "churn_mensal = qt_clientes_perdios['qt'][0] / qt_novos_clientes_mes_anterior['qt'][0] * 100\n",
    "churn_mensal"
   ]
  },
  {
   "cell_type": "markdown",
   "metadata": {},
   "source": [
    "### Churn bruto pode ser calculado da seguinte forma:\n",
    "CB = MRR′ / MRR′′\n",
    "\n",
    "Onde MRR’ é a receita recorrente mensal de um determinado mês, MRR” é a receita\n",
    "recorrente mensal do início do mês e CB é Churn Bruto.\n"
   ]
  },
  {
   "cell_type": "code",
   "execution_count": 7,
   "metadata": {},
   "outputs": [
    {
     "data": {
      "text/plain": [
       "100"
      ]
     },
     "execution_count": 7,
     "metadata": {},
     "output_type": "execute_result"
    }
   ],
   "source": [
    "def get_mrr():\n",
    "    primeiro_dia_mes = datetime.today().strftime('%Y-%m') + \"-01\"\n",
    "    hoje = datetime.today()\n",
    "\n",
    "    conn.execute(\"\"\"\n",
    "        SELECT AVG(total_sales) mean FROM wp_wc_order_stats WHERE date_created BETWEEN %s AND %s\n",
    "    \"\"\", [primeiro_dia_mes, hoje.strftime('%Y-%m-%d')])\n",
    "\n",
    "    mrr_i = pd.DataFrame(conn.fetchall())\n",
    "\n",
    "    dias_subtracao = int(datetime.today().strftime('%d')) + 1\n",
    "    td = timedelta(dias_subtracao * -1)\n",
    "\n",
    "    ultimo_dia_mes_passado = hoje + td\n",
    "    ultimo_dia_mes_passado = ultimo_dia_mes_passado.strftime('%Y-%m-%d')\n",
    "\n",
    "    dias_mes_passado = int((hoje + td).strftime('%d')) * -1\n",
    "    td_2 = timedelta(dias_mes_passado)\n",
    "\n",
    "    primeiro_dia_mes_passado = hoje + td + td_2\n",
    "    primeiro_dia_mes_passado = primeiro_dia_mes_passado.strftime('%Y-%m-%d')\n",
    "\n",
    "    conn.execute(\"\"\"\n",
    "        SELECT AVG(total_sales) mean FROM wp_wc_order_stats WHERE date_created BETWEEN %s AND %s\n",
    "    \"\"\", [primeiro_dia_mes_passado, ultimo_dia_mes_passado])\n",
    "\n",
    "    mrr_ii = pd.DataFrame(conn.fetchall())\n",
    "\n",
    "    mrr_i = mrr_i['mean'][0]\n",
    "    mrr_ii = mrr_ii['mean'][0]\n",
    "\n",
    "    return [mrr_i, mrr_ii]\n",
    "\n",
    "def get_churn_bruto(mrr_i, mrr_ii):\n",
    "    if mrr_i == None:\n",
    "        return 1 * 100\n",
    "\n",
    "    if mrr_ii == None:\n",
    "        return 0 * 100\n",
    "\n",
    "    return mrr_i / mrr_ii * 100\n",
    "\n",
    "mrr_i, mrr_ii = get_mrr()\n",
    "\n",
    "churn_bruto = get_churn_bruto(mrr_i, mrr_ii)\n",
    "churn_bruto"
   ]
  },
  {
   "cell_type": "markdown",
   "metadata": {},
   "source": [
    "### Churn Líquido\n",
    "O Churn Líquido se da pela equação:\n",
    "CL = MRR′ −UPSELLS′ / MRR′′\n",
    "o MRR’ é a perda de receita recorrente mensal no mês X, o UPSELLS’, em e-commerces\n",
    "é o aumento do ticket médio, em serviços de assinatura é o valor da assinatura e CL é Churn líquido"
   ]
  },
  {
   "cell_type": "code",
   "execution_count": 8,
   "metadata": {},
   "outputs": [
    {
     "data": {
      "text/plain": [
       "1.0"
      ]
     },
     "execution_count": 8,
     "metadata": {},
     "output_type": "execute_result"
    }
   ],
   "source": [
    "def get_delta_tickt_medio():\n",
    "    mrr_i, mrr_ii = get_mrr()\n",
    "    if mrr_i == None:\n",
    "        mrr_i = 0\n",
    "\n",
    "    if mrr_ii == None:\n",
    "        mrr_ii = 0\n",
    "\n",
    "    upsells = mrr_i - mrr_ii\n",
    "    return upsells\n",
    "\n",
    "def get_churn_liquido():\n",
    "    upsell = get_delta_tickt_medio()\n",
    "    mrr_i, mrr_ii = get_mrr()\n",
    "\n",
    "    if mrr_i == None:\n",
    "        mrr_i = 0\n",
    "\n",
    "    if mrr_ii == None:\n",
    "        mrr_ii = 0\n",
    "\n",
    "    return mrr_i - upsell / mrr_ii\n",
    "\n",
    "churn_liquido = get_churn_liquido()\n",
    "churn_liquido"
   ]
  },
  {
   "cell_type": "markdown",
   "metadata": {},
   "source": [
    "### CLV\n",
    "\n",
    "CLV = ∑ (pt − ct )rt / (1 + i)r − CAC\n",
    "\n",
    "Onde\n",
    "\n",
    "pt = valor da compra no tempo t,\n",
    "\n",
    "ct = quaisquer custos relacionado a compra no tempo t,\n",
    "\n",
    "i = taxa de desconto ou custo de capital para a empresa,\n",
    "\n",
    "T∗= expectativa do tempo de relacionamento com o cliente (Para Kepler, 24 meses),\n",
    "\n",
    "CAC = custo de aquisição de cliente"
   ]
  },
  {
   "cell_type": "code",
   "execution_count": 25,
   "metadata": {},
   "outputs": [
    {
     "data": {
      "text/plain": [
       "0    1.724888e+07\n",
       "Name: nt, dtype: float64"
      ]
     },
     "execution_count": 25,
     "metadata": {},
     "output_type": "execute_result"
    }
   ],
   "source": [
    "\n",
    "hoje = datetime.today().strftime('%Y-%m-%d')\n",
    "dois_anos_atras = str(int(ano_atual) - 2) + \"-\" + datetime.today().strftime('%m-%d')\n",
    "\n",
    "taxa_conversao = 0.05\n",
    "\n",
    "receita_liquida_sql = conn.execute(\"\"\"\n",
    "    SELECT SUM(net_total) as nt FROM `wp_wc_order_stats` WHERE date_created BETWEEN %s AND %s\n",
    "\"\"\", [dois_anos_atras, hoje])\n",
    "\n",
    "receita_liquida = pd.DataFrame(conn.fetchall())\n",
    "receita_liquida = receita_liquida['nt']\n",
    "\n",
    "clv = receita_liquida * taxa_conversao / (1 + 0.11)\n",
    "clv\n"
   ]
  },
  {
   "cell_type": "code",
   "execution_count": 24,
   "metadata": {},
   "outputs": [
    {
     "data": {
      "text/plain": [
       "0    5.360953e+07\n",
       "Name: nt, dtype: float64"
      ]
     },
     "execution_count": 24,
     "metadata": {},
     "output_type": "execute_result"
    }
   ],
   "source": [
    "media_tv_cliente = 1 / churn_mensal\n",
    "kepler_ltv = receita_liquida * media_tv_cliente\n",
    "kepler_ltv"
   ]
  },
  {
   "cell_type": "markdown",
   "metadata": {},
   "source": [
    "### Obtendo dados dos pedidos\n"
   ]
  },
  {
   "cell_type": "code",
   "execution_count": 10,
   "metadata": {},
   "outputs": [
    {
     "data": {
      "text/html": [
       "<div>\n",
       "<style scoped>\n",
       "    .dataframe tbody tr th:only-of-type {\n",
       "        vertical-align: middle;\n",
       "    }\n",
       "\n",
       "    .dataframe tbody tr th {\n",
       "        vertical-align: top;\n",
       "    }\n",
       "\n",
       "    .dataframe thead th {\n",
       "        text-align: right;\n",
       "    }\n",
       "</style>\n",
       "<table border=\"1\" class=\"dataframe\">\n",
       "  <thead>\n",
       "    <tr style=\"text-align: right;\">\n",
       "      <th></th>\n",
       "      <th>product_id</th>\n",
       "      <th>product_qty</th>\n",
       "      <th>unit_net_revenue</th>\n",
       "      <th>unit_gross_revenue</th>\n",
       "      <th>current_price</th>\n",
       "      <th>nps</th>\n",
       "      <th>rating_count</th>\n",
       "    </tr>\n",
       "  </thead>\n",
       "  <tbody>\n",
       "    <tr>\n",
       "      <th>0</th>\n",
       "      <td>19</td>\n",
       "      <td>1</td>\n",
       "      <td>25918.59</td>\n",
       "      <td>51837.180000</td>\n",
       "      <td>25918.5900</td>\n",
       "      <td>4.00</td>\n",
       "      <td>3</td>\n",
       "    </tr>\n",
       "    <tr>\n",
       "      <th>1</th>\n",
       "      <td>19</td>\n",
       "      <td>1</td>\n",
       "      <td>25918.59</td>\n",
       "      <td>79738.350000</td>\n",
       "      <td>25918.5900</td>\n",
       "      <td>4.00</td>\n",
       "      <td>3</td>\n",
       "    </tr>\n",
       "    <tr>\n",
       "      <th>2</th>\n",
       "      <td>20</td>\n",
       "      <td>1</td>\n",
       "      <td>83926.61</td>\n",
       "      <td>147965.440000</td>\n",
       "      <td>83926.6100</td>\n",
       "      <td>3.00</td>\n",
       "      <td>1</td>\n",
       "    </tr>\n",
       "    <tr>\n",
       "      <th>3</th>\n",
       "      <td>21</td>\n",
       "      <td>1</td>\n",
       "      <td>26334.22</td>\n",
       "      <td>79800.215000</td>\n",
       "      <td>26334.2200</td>\n",
       "      <td>3.29</td>\n",
       "      <td>7</td>\n",
       "    </tr>\n",
       "    <tr>\n",
       "      <th>4</th>\n",
       "      <td>21</td>\n",
       "      <td>1</td>\n",
       "      <td>26334.22</td>\n",
       "      <td>54083.805000</td>\n",
       "      <td>26334.2200</td>\n",
       "      <td>3.29</td>\n",
       "      <td>7</td>\n",
       "    </tr>\n",
       "    <tr>\n",
       "      <th>...</th>\n",
       "      <td>...</td>\n",
       "      <td>...</td>\n",
       "      <td>...</td>\n",
       "      <td>...</td>\n",
       "      <td>...</td>\n",
       "      <td>...</td>\n",
       "      <td>...</td>\n",
       "    </tr>\n",
       "    <tr>\n",
       "      <th>6002</th>\n",
       "      <td>80</td>\n",
       "      <td>1</td>\n",
       "      <td>23177.94</td>\n",
       "      <td>82017.630000</td>\n",
       "      <td>23177.9400</td>\n",
       "      <td>3.43</td>\n",
       "      <td>7</td>\n",
       "    </tr>\n",
       "    <tr>\n",
       "      <th>6003</th>\n",
       "      <td>81</td>\n",
       "      <td>1</td>\n",
       "      <td>80228.10</td>\n",
       "      <td>129346.126667</td>\n",
       "      <td>80228.1000</td>\n",
       "      <td>0.00</td>\n",
       "      <td>0</td>\n",
       "    </tr>\n",
       "    <tr>\n",
       "      <th>6004</th>\n",
       "      <td>82</td>\n",
       "      <td>1</td>\n",
       "      <td>60923.26</td>\n",
       "      <td>121846.520000</td>\n",
       "      <td>60923.2600</td>\n",
       "      <td>3.00</td>\n",
       "      <td>8</td>\n",
       "    </tr>\n",
       "    <tr>\n",
       "      <th>6005</th>\n",
       "      <td>83</td>\n",
       "      <td>1</td>\n",
       "      <td>31046.26</td>\n",
       "      <td>87866.098000</td>\n",
       "      <td>31046.2600</td>\n",
       "      <td>3.50</td>\n",
       "      <td>4</td>\n",
       "    </tr>\n",
       "    <tr>\n",
       "      <th>6006</th>\n",
       "      <td>93</td>\n",
       "      <td>2</td>\n",
       "      <td>75776.41</td>\n",
       "      <td>75779.743333</td>\n",
       "      <td>75776.4100</td>\n",
       "      <td>4.00</td>\n",
       "      <td>1</td>\n",
       "    </tr>\n",
       "  </tbody>\n",
       "</table>\n",
       "<p>6007 rows × 7 columns</p>\n",
       "</div>"
      ],
      "text/plain": [
       "      product_id  product_qty  unit_net_revenue  unit_gross_revenue  \\\n",
       "0             19            1          25918.59        51837.180000   \n",
       "1             19            1          25918.59        79738.350000   \n",
       "2             20            1          83926.61       147965.440000   \n",
       "3             21            1          26334.22        79800.215000   \n",
       "4             21            1          26334.22        54083.805000   \n",
       "...          ...          ...               ...                 ...   \n",
       "6002          80            1          23177.94        82017.630000   \n",
       "6003          81            1          80228.10       129346.126667   \n",
       "6004          82            1          60923.26       121846.520000   \n",
       "6005          83            1          31046.26        87866.098000   \n",
       "6006          93            2          75776.41        75779.743333   \n",
       "\n",
       "     current_price   nps  rating_count  \n",
       "0       25918.5900  4.00             3  \n",
       "1       25918.5900  4.00             3  \n",
       "2       83926.6100  3.00             1  \n",
       "3       26334.2200  3.29             7  \n",
       "4       26334.2200  3.29             7  \n",
       "...            ...   ...           ...  \n",
       "6002    23177.9400  3.43             7  \n",
       "6003    80228.1000  0.00             0  \n",
       "6004    60923.2600  3.00             8  \n",
       "6005    31046.2600  3.50             4  \n",
       "6006    75776.4100  4.00             1  \n",
       "\n",
       "[6007 rows x 7 columns]"
      ]
     },
     "execution_count": 10,
     "metadata": {},
     "output_type": "execute_result"
    }
   ],
   "source": [
    "relacao_pedidos = conn.execute(\"\"\"\n",
    "    SELECT \n",
    "        wp_wc_order_product_lookup.product_id,\n",
    "        wp_wc_order_product_lookup.product_qty, \n",
    "        # wp_wc_order_product_lookup.date_created, \n",
    "        (wp_wc_order_product_lookup.product_net_revenue / wp_wc_order_product_lookup.product_qty) as unit_net_revenue,\n",
    "        (wp_wc_order_product_lookup.product_gross_revenue / wp_wc_order_product_lookup.product_qty) as unit_gross_revenue,\n",
    "        wp_wc_product_meta_lookup.max_price as current_price,\n",
    "        wp_wc_product_meta_lookup.average_rating as nps,\n",
    "        wp_wc_product_meta_lookup.rating_count\n",
    "    FROM wp_wc_order_product_lookup\n",
    "    INNER JOIN wp_posts ON wp_wc_order_product_lookup.product_id = wp_posts.ID\n",
    "    INNER JOIN wp_wc_product_meta_lookup ON  wp_posts.ID = wp_wc_product_meta_lookup.product_id\n",
    "\"\"\")\n",
    "\n",
    "pedidos = pd.DataFrame(conn.fetchall())\n",
    "pedidos"
   ]
  },
  {
   "cell_type": "markdown",
   "metadata": {},
   "source": [
    "### Padronizando variáveis"
   ]
  },
  {
   "cell_type": "code",
   "execution_count": 31,
   "metadata": {},
   "outputs": [
    {
     "data": {
      "text/html": [
       "<div>\n",
       "<style scoped>\n",
       "    .dataframe tbody tr th:only-of-type {\n",
       "        vertical-align: middle;\n",
       "    }\n",
       "\n",
       "    .dataframe tbody tr th {\n",
       "        vertical-align: top;\n",
       "    }\n",
       "\n",
       "    .dataframe thead th {\n",
       "        text-align: right;\n",
       "    }\n",
       "</style>\n",
       "<table border=\"1\" class=\"dataframe\">\n",
       "  <thead>\n",
       "    <tr style=\"text-align: right;\">\n",
       "      <th></th>\n",
       "      <th>product_id</th>\n",
       "      <th>product_qty</th>\n",
       "      <th>unit_net_revenue</th>\n",
       "      <th>unit_gross_revenue</th>\n",
       "      <th>current_price</th>\n",
       "      <th>nps</th>\n",
       "      <th>rating_count</th>\n",
       "      <th>target</th>\n",
       "    </tr>\n",
       "  </thead>\n",
       "  <tbody>\n",
       "    <tr>\n",
       "      <th>0</th>\n",
       "      <td>-3.016008</td>\n",
       "      <td>-0.174792</td>\n",
       "      <td>-1.489400</td>\n",
       "      <td>-1.899575</td>\n",
       "      <td>-1.489400</td>\n",
       "      <td>2.099615</td>\n",
       "      <td>-1.647489</td>\n",
       "      <td>1</td>\n",
       "    </tr>\n",
       "    <tr>\n",
       "      <th>1</th>\n",
       "      <td>-3.016008</td>\n",
       "      <td>-0.174792</td>\n",
       "      <td>-1.489400</td>\n",
       "      <td>-1.149411</td>\n",
       "      <td>-1.489400</td>\n",
       "      <td>2.099615</td>\n",
       "      <td>-1.647489</td>\n",
       "      <td>1</td>\n",
       "    </tr>\n",
       "    <tr>\n",
       "      <th>2</th>\n",
       "      <td>-2.917088</td>\n",
       "      <td>-0.174792</td>\n",
       "      <td>0.909088</td>\n",
       "      <td>0.684976</td>\n",
       "      <td>0.909088</td>\n",
       "      <td>-1.096113</td>\n",
       "      <td>-2.084197</td>\n",
       "      <td>1</td>\n",
       "    </tr>\n",
       "    <tr>\n",
       "      <th>3</th>\n",
       "      <td>-2.818168</td>\n",
       "      <td>-0.174792</td>\n",
       "      <td>-1.472215</td>\n",
       "      <td>-1.147748</td>\n",
       "      <td>-1.472215</td>\n",
       "      <td>-0.169352</td>\n",
       "      <td>-0.774072</td>\n",
       "      <td>1</td>\n",
       "    </tr>\n",
       "    <tr>\n",
       "      <th>4</th>\n",
       "      <td>-2.818168</td>\n",
       "      <td>-0.174792</td>\n",
       "      <td>-1.472215</td>\n",
       "      <td>-1.839172</td>\n",
       "      <td>-1.472215</td>\n",
       "      <td>-0.169352</td>\n",
       "      <td>-0.774072</td>\n",
       "      <td>1</td>\n",
       "    </tr>\n",
       "    <tr>\n",
       "      <th>...</th>\n",
       "      <td>...</td>\n",
       "      <td>...</td>\n",
       "      <td>...</td>\n",
       "      <td>...</td>\n",
       "      <td>...</td>\n",
       "      <td>...</td>\n",
       "      <td>...</td>\n",
       "      <td>...</td>\n",
       "    </tr>\n",
       "    <tr>\n",
       "      <th>6002</th>\n",
       "      <td>3.018099</td>\n",
       "      <td>-0.174792</td>\n",
       "      <td>-1.602719</td>\n",
       "      <td>-1.088129</td>\n",
       "      <td>-1.602719</td>\n",
       "      <td>0.278050</td>\n",
       "      <td>-0.774072</td>\n",
       "      <td>0</td>\n",
       "    </tr>\n",
       "    <tr>\n",
       "      <th>6003</th>\n",
       "      <td>3.117019</td>\n",
       "      <td>-0.174792</td>\n",
       "      <td>0.756163</td>\n",
       "      <td>0.184368</td>\n",
       "      <td>0.756163</td>\n",
       "      <td>-10.683296</td>\n",
       "      <td>-2.302552</td>\n",
       "      <td>1</td>\n",
       "    </tr>\n",
       "    <tr>\n",
       "      <th>6004</th>\n",
       "      <td>3.215939</td>\n",
       "      <td>-0.174792</td>\n",
       "      <td>-0.042044</td>\n",
       "      <td>-0.017270</td>\n",
       "      <td>-0.042044</td>\n",
       "      <td>-1.096113</td>\n",
       "      <td>-0.555718</td>\n",
       "      <td>1</td>\n",
       "    </tr>\n",
       "    <tr>\n",
       "      <th>6005</th>\n",
       "      <td>3.314858</td>\n",
       "      <td>-0.174792</td>\n",
       "      <td>-1.277384</td>\n",
       "      <td>-0.930884</td>\n",
       "      <td>-1.277384</td>\n",
       "      <td>0.501751</td>\n",
       "      <td>-1.429135</td>\n",
       "      <td>1</td>\n",
       "    </tr>\n",
       "    <tr>\n",
       "      <th>6006</th>\n",
       "      <td>4.304056</td>\n",
       "      <td>5.594298</td>\n",
       "      <td>0.572097</td>\n",
       "      <td>-1.255844</td>\n",
       "      <td>0.572097</td>\n",
       "      <td>2.099615</td>\n",
       "      <td>-2.084197</td>\n",
       "      <td>1</td>\n",
       "    </tr>\n",
       "  </tbody>\n",
       "</table>\n",
       "<p>6007 rows × 8 columns</p>\n",
       "</div>"
      ],
      "text/plain": [
       "      product_id  product_qty  unit_net_revenue  unit_gross_revenue  \\\n",
       "0      -3.016008    -0.174792         -1.489400           -1.899575   \n",
       "1      -3.016008    -0.174792         -1.489400           -1.149411   \n",
       "2      -2.917088    -0.174792          0.909088            0.684976   \n",
       "3      -2.818168    -0.174792         -1.472215           -1.147748   \n",
       "4      -2.818168    -0.174792         -1.472215           -1.839172   \n",
       "...          ...          ...               ...                 ...   \n",
       "6002    3.018099    -0.174792         -1.602719           -1.088129   \n",
       "6003    3.117019    -0.174792          0.756163            0.184368   \n",
       "6004    3.215939    -0.174792         -0.042044           -0.017270   \n",
       "6005    3.314858    -0.174792         -1.277384           -0.930884   \n",
       "6006    4.304056     5.594298          0.572097           -1.255844   \n",
       "\n",
       "      current_price        nps  rating_count  target  \n",
       "0         -1.489400   2.099615     -1.647489       1  \n",
       "1         -1.489400   2.099615     -1.647489       1  \n",
       "2          0.909088  -1.096113     -2.084197       1  \n",
       "3         -1.472215  -0.169352     -0.774072       1  \n",
       "4         -1.472215  -0.169352     -0.774072       1  \n",
       "...             ...        ...           ...     ...  \n",
       "6002      -1.602719   0.278050     -0.774072       0  \n",
       "6003       0.756163 -10.683296     -2.302552       1  \n",
       "6004      -0.042044  -1.096113     -0.555718       1  \n",
       "6005      -1.277384   0.501751     -1.429135       1  \n",
       "6006       0.572097   2.099615     -2.084197       1  \n",
       "\n",
       "[6007 rows x 8 columns]"
      ]
     },
     "execution_count": 31,
     "metadata": {},
     "output_type": "execute_result"
    }
   ],
   "source": [
    "from sklearn.preprocessing import StandardScaler\n",
    "import random\n",
    "\n",
    "scaler = StandardScaler()\n",
    "scaled_data = scaler.fit_transform(pedidos)\n",
    "scaled_orders = pd.DataFrame(scaled_data)\n",
    "scaled_orders.columns = pedidos.columns\n",
    "scaled_orders['target'] = [random.randrange(0, 2, 1) for i in range(6007)]\n",
    "scaled_orders"
   ]
  },
  {
   "cell_type": "markdown",
   "metadata": {},
   "source": [
    "### Corelação das variáveis "
   ]
  },
  {
   "cell_type": "code",
   "execution_count": 32,
   "metadata": {},
   "outputs": [
    {
     "data": {
      "text/plain": [
       "<AxesSubplot:>"
      ]
     },
     "execution_count": 32,
     "metadata": {},
     "output_type": "execute_result"
    },
    {
     "data": {
      "image/png": "[encoded data removed]",
      "text/plain": [
       "<Figure size 432x288 with 2 Axes>"
      ]
     },
     "metadata": {
      "needs_background": "light"
     },
     "output_type": "display_data"
    }
   ],
   "source": [
    "sns.heatmap(scaled_orders.corr())"
   ]
  },
  {
   "cell_type": "code",
   "execution_count": 35,
   "metadata": {},
   "outputs": [
    {
     "data": {
      "text/plain": [
       "(array([[ 1.73214188, -0.17479182,  0.94699461, ...,  0.94699461,\n",
       "          1.46046942, -1.21078068],\n",
       "        [ 0.14942536, -0.17479182, -0.73553326, ..., -0.73553326,\n",
       "         -0.29718087,  1.19111536],\n",
       "        [ 1.83106167, -0.17479182,  0.30939472, ...,  0.30939472,\n",
       "          1.04502481, -1.64748905],\n",
       "        ...,\n",
       "        [-0.64193291, -0.17479182,  1.19195305, ...,  1.19195305,\n",
       "          0.27805013, -0.77407231],\n",
       "        [-0.14733399, -0.17479182,  0.21442318, ...,  0.21442318,\n",
       "         -1.09611283, -1.21078068],\n",
       "        [-0.14733399, -0.17479182,  0.21442318, ...,  0.21442318,\n",
       "         -1.09611283, -1.21078068]]),\n",
       " array([[ 0.05050557, -0.17479182, -1.59358987, ..., -1.59358987,\n",
       "         -1.63938656, -0.9924265 ],\n",
       "        [ 0.4461847 , -0.17479182, -0.54041223, ..., -0.54041223,\n",
       "          0.69349475, -0.33736394],\n",
       "        [ 0.4461847 , -0.17479182, -0.54041223, ..., -0.54041223,\n",
       "          0.69349475, -0.33736394],\n",
       "        ...,\n",
       "        [ 0.54510449, -0.17479182, -1.35517137, ..., -1.35517137,\n",
       "          0.05434918,  0.75440699],\n",
       "        [ 0.84186384, -0.17479182,  0.13896644, ...,  0.13896644,\n",
       "          0.50175108, -0.11900976],\n",
       "        [ 0.74294405, -0.17479182,  1.31842851, ...,  1.31842851,\n",
       "         -1.09611283, -0.33736394]]),\n",
       " array([0, 1, 1, ..., 0, 1, 0], dtype=int64),\n",
       " array([1, 1, 0, ..., 1, 1, 1], dtype=int64))"
      ]
     },
     "execution_count": 35,
     "metadata": {},
     "output_type": "execute_result"
    }
   ],
   "source": [
    "from sklearn.linear_model import LogisticRegression\n",
    "from sklearn.model_selection import train_test_split\n",
    "\n",
    "X = scaled_orders.drop('target', axis=1).values\n",
    "Y = scaled_orders['target'].values\n",
    "\n",
    "X_treino, X_teste, Y_treino, Y_teste = train_test_split(X, Y, test_size=0.25, random_state=0)\n",
    "\n",
    "X_treino, X_teste, Y_treino, Y_teste"
   ]
  },
  {
   "cell_type": "code",
   "execution_count": 36,
   "metadata": {},
   "outputs": [
    {
     "data": {
      "text/html": [
       "<style>#sk-container-id-1 {color: black;background-color: white;}#sk-container-id-1 pre{padding: 0;}#sk-container-id-1 div.sk-toggleable {background-color: white;}#sk-container-id-1 label.sk-toggleable__label {cursor: pointer;display: block;width: 100%;margin-bottom: 0;padding: 0.3em;box-sizing: border-box;text-align: center;}#sk-container-id-1 label.sk-toggleable__label-arrow:before {content: \"▸\";float: left;margin-right: 0.25em;color: #696969;}#sk-container-id-1 label.sk-toggleable__label-arrow:hover:before {color: black;}#sk-container-id-1 div.sk-estimator:hover label.sk-toggleable__label-arrow:before {color: black;}#sk-container-id-1 div.sk-toggleable__content {max-height: 0;max-width: 0;overflow: hidden;text-align: left;background-color: #f0f8ff;}#sk-container-id-1 div.sk-toggleable__content pre {margin: 0.2em;color: black;border-radius: 0.25em;background-color: #f0f8ff;}#sk-container-id-1 input.sk-toggleable__control:checked~div.sk-toggleable__content {max-height: 200px;max-width: 100%;overflow: auto;}#sk-container-id-1 input.sk-toggleable__control:checked~label.sk-toggleable__label-arrow:before {content: \"▾\";}#sk-container-id-1 div.sk-estimator input.sk-toggleable__control:checked~label.sk-toggleable__label {background-color: #d4ebff;}#sk-container-id-1 div.sk-label input.sk-toggleable__control:checked~label.sk-toggleable__label {background-color: #d4ebff;}#sk-container-id-1 input.sk-hidden--visually {border: 0;clip: rect(1px 1px 1px 1px);clip: rect(1px, 1px, 1px, 1px);height: 1px;margin: -1px;overflow: hidden;padding: 0;position: absolute;width: 1px;}#sk-container-id-1 div.sk-estimator {font-family: monospace;background-color: #f0f8ff;border: 1px dotted black;border-radius: 0.25em;box-sizing: border-box;margin-bottom: 0.5em;}#sk-container-id-1 div.sk-estimator:hover {background-color: #d4ebff;}#sk-container-id-1 div.sk-parallel-item::after {content: \"\";width: 100%;border-bottom: 1px solid gray;flex-grow: 1;}#sk-container-id-1 div.sk-label:hover label.sk-toggleable__label {background-color: #d4ebff;}#sk-container-id-1 div.sk-serial::before {content: \"\";position: absolute;border-left: 1px solid gray;box-sizing: border-box;top: 0;bottom: 0;left: 50%;z-index: 0;}#sk-container-id-1 div.sk-serial {display: flex;flex-direction: column;align-items: center;background-color: white;padding-right: 0.2em;padding-left: 0.2em;position: relative;}#sk-container-id-1 div.sk-item {position: relative;z-index: 1;}#sk-container-id-1 div.sk-parallel {display: flex;align-items: stretch;justify-content: center;background-color: white;position: relative;}#sk-container-id-1 div.sk-item::before, #sk-container-id-1 div.sk-parallel-item::before {content: \"\";position: absolute;border-left: 1px solid gray;box-sizing: border-box;top: 0;bottom: 0;left: 50%;z-index: -1;}#sk-container-id-1 div.sk-parallel-item {display: flex;flex-direction: column;z-index: 1;position: relative;background-color: white;}#sk-container-id-1 div.sk-parallel-item:first-child::after {align-self: flex-end;width: 50%;}#sk-container-id-1 div.sk-parallel-item:last-child::after {align-self: flex-start;width: 50%;}#sk-container-id-1 div.sk-parallel-item:only-child::after {width: 0;}#sk-container-id-1 div.sk-dashed-wrapped {border: 1px dashed gray;margin: 0 0.4em 0.5em 0.4em;box-sizing: border-box;padding-bottom: 0.4em;background-color: white;}#sk-container-id-1 div.sk-label label {font-family: monospace;font-weight: bold;display: inline-block;line-height: 1.2em;}#sk-container-id-1 div.sk-label-container {text-align: center;}#sk-container-id-1 div.sk-container {/* jupyter's `normalize.less` sets `[hidden] { display: none; }` but bootstrap.min.css set `[hidden] { display: none !important; }` so we also need the `!important` here to be able to override the default hidden behavior on the sphinx rendered scikit-learn.org. See: https://github.com/scikit-learn/scikit-learn/issues/21755 */display: inline-block !important;position: relative;}#sk-container-id-1 div.sk-text-repr-fallback {display: none;}</style><div id=\"sk-container-id-1\" class=\"sk-top-container\"><div class=\"sk-text-repr-fallback\"><pre>LogisticRegression()</pre><b>In a Jupyter environment, please rerun this cell to show the HTML representation or trust the notebook. <br />On GitHub, the HTML representation is unable to render, please try loading this page with nbviewer.org.</b></div><div class=\"sk-container\" hidden><div class=\"sk-item\"><div class=\"sk-estimator sk-toggleable\"><input class=\"sk-toggleable__control sk-hidden--visually\" id=\"sk-estimator-id-1\" type=\"checkbox\" checked><label for=\"sk-estimator-id-1\" class=\"sk-toggleable__label sk-toggleable__label-arrow\">LogisticRegression</label><div class=\"sk-toggleable__content\"><pre>LogisticRegression()</pre></div></div></div></div></div>"
      ],
      "text/plain": [
       "LogisticRegression()"
      ]
     },
     "execution_count": 36,
     "metadata": {},
     "output_type": "execute_result"
    }
   ],
   "source": [
    "modelo = LogisticRegression()\n",
    "modelo.fit(X_treino, Y_treino)"
   ]
  },
  {
   "cell_type": "code",
   "execution_count": 37,
   "metadata": {},
   "outputs": [
    {
     "data": {
      "text/plain": [
       "0.5125416204217536"
      ]
     },
     "execution_count": 37,
     "metadata": {},
     "output_type": "execute_result"
    }
   ],
   "source": [
    "score_treino = modelo.score(X_treino, Y_treino)\n",
    "score_treino"
   ]
  },
  {
   "cell_type": "code",
   "execution_count": 38,
   "metadata": {},
   "outputs": [
    {
     "data": {
      "text/plain": [
       "array([1, 0, 0, ..., 1, 0, 0], dtype=int64)"
      ]
     },
     "execution_count": 38,
     "metadata": {},
     "output_type": "execute_result"
    }
   ],
   "source": [
    "Y_previsto = modelo.predict(X_teste)\n",
    "Y_previsto"
   ]
  },
  {
   "cell_type": "code",
   "execution_count": 39,
   "metadata": {},
   "outputs": [
    {
     "data": {
      "text/plain": [
       "0.4840213049267643"
      ]
     },
     "execution_count": 39,
     "metadata": {},
     "output_type": "execute_result"
    }
   ],
   "source": [
    "score_teste = modelo.score(X_teste, Y_teste)\n",
    "score_teste"
   ]
  },
  {
   "cell_type": "code",
   "execution_count": 41,
   "metadata": {},
   "outputs": [
    {
     "data": {
      "text/plain": [
       "<AxesSubplot:>"
      ]
     },
     "execution_count": 41,
     "metadata": {},
     "output_type": "execute_result"
    },
    {
     "data": {
      "image/png": "[encoded data removed]",
      "text/plain": [
       "<Figure size 432x288 with 2 Axes>"
      ]
     },
     "metadata": {
      "needs_background": "light"
     },
     "output_type": "display_data"
    }
   ],
   "source": [
    "from sklearn.metrics import confusion_matrix\n",
    "cm = confusion_matrix(Y_teste, Y_previsto)\n",
    "sns.heatmap(cm,annot=True, fmt=\"d\")"
   ]
  },
  {
   "cell_type": "code",
   "execution_count": 42,
   "metadata": {},
   "outputs": [
    {
     "data": {
      "text/plain": [
       "48.429157837809086"
      ]
     },
     "execution_count": 42,
     "metadata": {},
     "output_type": "execute_result"
    }
   ],
   "source": [
    "from sklearn.metrics import roc_curve, roc_auc_score, auc\n",
    "fpr, tpr, _ = roc_curve(Y_teste, Y_previsto)\n",
    "roc_auc = auc(fpr, tpr) * 100\n",
    "roc_auc"
   ]
  },
  {
   "cell_type": "code",
   "execution_count": 44,
   "metadata": {},
   "outputs": [
    {
     "data": {
      "text/plain": [
       "[<matplotlib.lines.Line2D at 0x1d0b03221a0>]"
      ]
     },
     "execution_count": 44,
     "metadata": {},
     "output_type": "execute_result"
    },
    {
     "data": {
      "image/png": "[encoded data removed]",
      "text/plain": [
       "<Figure size 432x288 with 1 Axes>"
      ]
     },
     "metadata": {
      "needs_background": "light"
     },
     "output_type": "display_data"
    }
   ],
   "source": [
    "import matplotlib.pyplot as plt\n",
    "\n",
    "plt.plot(fpr, tpr)"
   ]
  }
 ],
 "metadata": {
  "kernelspec": {
   "display_name": "Python 3.10.6 64-bit",
   "language": "python",
   "name": "python3"
  },
  "language_info": {
   "codemirror_mode": {
    "name": "ipython",
    "version": 3
   },
   "file_extension": ".py",
   "mimetype": "text/x-python",
   "name": "python",
   "nbconvert_exporter": "python",
   "pygments_lexer": "ipython3",
   "version": "3.10.6"
  },
  "orig_nbformat": 4,
  "vscode": {
   "interpreter": {
    "hash": "369f2c481f4da34e4445cda3fffd2e751bd1c4d706f27375911949ba6bb62e1c"
   }
  }
 },
 "nbformat": 4,
 "nbformat_minor": 2
}
