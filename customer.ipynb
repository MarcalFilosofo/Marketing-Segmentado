{
 "cells": [
  {
   "cell_type": "code",
   "execution_count": null,
   "metadata": {},
   "outputs": [],
   "source": [
    "from infra.DBConnection import DBConnection\n",
    "import pandas as pd\n",
    "\n",
    "conn = DBConnection.getConnection()\n",
    "\n",
    "conn.execute(\"\"\"\n",
    "            SELECT postcode FROM `wp_wc_customer_lookup`  \n",
    "            WHERE postcode is not null and postcode != \"\";\n",
    "        \"\"\")\n",
    "\n",
    "list_post_code = pd.DataFrame(conn.fetchall())\n",
    "\n",
    "list_post_code"
   ]
  },
  {
   "cell_type": "code",
   "execution_count": null,
   "metadata": {},
   "outputs": [],
   "source": []
  }
 ],
 "metadata": {
  "kernelspec": {
   "display_name": "Python 3.10.7 64-bit (microsoft store)",
   "language": "python",
   "name": "python3"
  },
  "language_info": {
   "name": "python",
   "version": "3.10.7"
  },
  "orig_nbformat": 4,
  "vscode": {
   "interpreter": {
    "hash": "92db87a2c7d4757b69400d2719b1fddb1a828cb5e226cc9ac861df25b6f6f3f6"
   }
  }
 },
 "nbformat": 4,
 "nbformat_minor": 2
}
