{
 "cells": [
  {
   "cell_type": "code",
   "execution_count": 1,
   "metadata": {},
   "outputs": [
    {
     "ename": "ModuleNotFoundError",
     "evalue": "No module named 'numpy'",
     "output_type": "error",
     "traceback": [
      "\u001b[1;31m---------------------------------------------------------------------------\u001b[0m",
      "\u001b[1;31mModuleNotFoundError\u001b[0m                       Traceback (most recent call last)",
      "Cell \u001b[1;32mIn [1], line 1\u001b[0m\n\u001b[1;32m----> 1\u001b[0m \u001b[39mimport\u001b[39;00m \u001b[39mnumpy\u001b[39;00m \u001b[39mas\u001b[39;00m \u001b[39mnp\u001b[39;00m\n\u001b[0;32m      2\u001b[0m \u001b[39mimport\u001b[39;00m \u001b[39mpandas\u001b[39;00m \u001b[39mas\u001b[39;00m \u001b[39mpd\u001b[39;00m\n\u001b[0;32m      3\u001b[0m \u001b[39mimport\u001b[39;00m \u001b[39mseaborn\u001b[39;00m \u001b[39mas\u001b[39;00m \u001b[39msns\u001b[39;00m\n",
      "\u001b[1;31mModuleNotFoundError\u001b[0m: No module named 'numpy'"
     ]
    }
   ],
   "source": [
    "import numpy as np\n",
    "import pandas as pd\n",
    "import seaborn as sns\n",
    "import mariadb\n",
    "import sys\n",
    "\n",
    "import os\n",
    "from dotenv import load_dotenv\n",
    "\n",
    "class DBConnection:\n",
    "    @staticmethod\n",
    "    def getConnection():\n",
    "        load_dotenv(override=True)\n",
    "        try:\n",
    "            conn = mariadb.connect(\n",
    "                user=os.environ['DATABASE_USERNAME'],\n",
    "                password=os.environ['DATABASE_PASSWORD'],\n",
    "                host=os.environ['HOST_CONNECT'],\n",
    "                port=int(os.environ['DATABASE_PORT']),\n",
    "                database=os.environ['DATABASE_NAME']\n",
    "\n",
    "            )\n",
    "        except mariadb.Error as e:\n",
    "            print(f\"Error connecting to MariaDB Platform: {e}\")\n",
    "            sys.exit(1)\n",
    "            \n",
    "        return conn.cursor(dictionary=True)\n",
    "\n",
    "conn = DBConnection.getConnection()\n"
   ]
  },
  {
   "cell_type": "code",
   "execution_count": null,
   "metadata": {},
   "outputs": [],
   "source": [
    "conn.execute(\"\"\"\n",
    "            SELECT \n",
    "                wp_posts.ID,\n",
    "                wp_posts.post_title,\n",
    "                Round(Avg(DISTINCT(wp_commentmeta.meta_value)), 1) AS nps,\n",
    "                COUNT(DISTINCT(wp_wc_order_product_lookup.product_id)) as qt_orders,\n",
    "                COUNT(DISTINCT(wp_commentmeta.meta_id)) as rating_count,\n",
    "                Round(wp_wc_product_meta_lookup.max_price, 2) as current_price,\n",
    "                wp_wc_product_meta_lookup.stock_quantity,\n",
    "                CASE \n",
    "                    WHEN wp_wc_product_meta_lookup.stock_status = \"instock\" THEN 1\n",
    "                    ELSE 0\n",
    "                END as stock_status\n",
    "            FROM   wp_posts\n",
    "                LEFT JOIN wp_comments\n",
    "                        ON wp_posts.id = wp_comments.comment_post_id\n",
    "                LEFT JOIN wp_commentmeta\n",
    "                        ON wp_comments.comment_id = wp_commentmeta.comment_id\n",
    "                LEFT JOIN wp_wc_order_product_lookup\n",
    "                        ON wp_posts.ID = wp_wc_order_product_lookup.product_id\n",
    "                LEFT JOIN wp_wc_product_meta_lookup\n",
    "                        ON wp_posts.ID = wp_wc_product_meta_lookup.product_id\n",
    "            WHERE \n",
    "            (wp_commentmeta.meta_key = 'rating' OR wp_commentmeta.meta_key is null)\n",
    "            AND wp_posts.post_type = \"product\"\n",
    "            GROUP BY wp_posts.post_title  \n",
    "        \"\"\")\n",
    "\n",
    "products_kpis_1 = pd.DataFrame(self.conn.fetchall())\n",
    "\n",
    "products_kpis_list = []\n",
    "\n",
    "for index, row in products_kpis_1.iterrows():\n",
    "    index_recompra = self.get_index_recompra(row['ID'])\n",
    "    new_row = dict({\n",
    "        \"id\": row['ID'],\n",
    "        \"post_title\": row['post_title'],\n",
    "        \"current_price\": row['current_price'],\n",
    "        \"nps\": row['nps'],\n",
    "        \"stock_quantity\": row['stock_quantity'],\n",
    "        \"stock_status\": row['stock_status'],\n",
    "        \"qt_orders\": row['qt_orders'],\n",
    "        \"rating_count\": row['rating_count'],\n",
    "        \"repurchase\": index_recompra,\n",
    "    })\n",
    "    products_kpis_list.append(new_row)\n",
    "\n",
    "products_kpi = pd.DataFrame(products_kpis_list)\n",
    "\n",
    "products_kpi['nps'] = products_kpi['nps'].fillna(0)\n",
    "products_kpi['stock_quantity'] = products_kpi['stock_quantity'].fillna(99999)\n",
    "\n",
    "X = np.array(products_kpi.drop(['post_title', 'id', 'current_price'], axis=1))\n",
    "\n",
    "kmeans = KMeans(n_clusters=3, random_state=0).fit(X)\n",
    "\n",
    "classes = list(map(self.padronizar_classe, kmeans.labels_))\n",
    "products_kpi['K_classes'] = classes\n",
    "\n",
    "scaler = StandardScaler()\n",
    "\n",
    "scaled_data = scaler.fit_transform(pedidos)\n",
    "\n",
    "scaled_orders = pd.DataFrame(scaled_data)\n",
    "\n",
    "\n",
    "products_kpi = products_kpi.sort_values(by='K_classes')"
   ]
  }
 ],
 "metadata": {
  "kernelspec": {
   "display_name": "Python 3.10.7 64-bit (microsoft store)",
   "language": "python",
   "name": "python3"
  },
  "language_info": {
   "codemirror_mode": {
    "name": "ipython",
    "version": 3
   },
   "file_extension": ".py",
   "mimetype": "text/x-python",
   "name": "python",
   "nbconvert_exporter": "python",
   "pygments_lexer": "ipython3",
   "version": "3.10.7"
  },
  "orig_nbformat": 4,
  "vscode": {
   "interpreter": {
    "hash": "92db87a2c7d4757b69400d2719b1fddb1a828cb5e226cc9ac861df25b6f6f3f6"
   }
  }
 },
 "nbformat": 4,
 "nbformat_minor": 2
}
